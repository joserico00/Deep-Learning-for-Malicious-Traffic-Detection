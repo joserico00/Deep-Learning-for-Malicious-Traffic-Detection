{
  "nbformat": 4,
  "nbformat_minor": 0,
  "metadata": {
    "colab": {
      "provenance": [],
      "gpuType": "T4"
    },
    "kernelspec": {
      "name": "python3",
      "display_name": "Python 3"
    },
    "language_info": {
      "name": "python"
    },
    "accelerator": "GPU"
  },
  "cells": [
    {
      "cell_type": "code",
      "source": [],
      "metadata": {
        "id": "zQzMIyzCwyG8"
      },
      "execution_count": null,
      "outputs": []
    },
    {
      "cell_type": "code",
      "source": [],
      "metadata": {
        "id": "251q-Bp50f95"
      },
      "execution_count": null,
      "outputs": []
    },
    {
      "cell_type": "code",
      "source": [
        "from google.colab import drive\n",
        "drive.mount('/content/drive')"
      ],
      "metadata": {
        "colab": {
          "base_uri": "https://localhost:8080/"
        },
        "id": "9mRKEVplmHHs",
        "outputId": "16573855-1bc0-474f-a1eb-06e398ec105d"
      },
      "execution_count": null,
      "outputs": [
        {
          "output_type": "stream",
          "name": "stdout",
          "text": [
            "Drive already mounted at /content/drive; to attempt to forcibly remount, call drive.mount(\"/content/drive\", force_remount=True).\n"
          ]
        }
      ]
    },
    {
      "cell_type": "code",
      "execution_count": null,
      "metadata": {
        "id": "LbUuHYoflE5w"
      },
      "outputs": [],
      "source": [
        "import os\n",
        "import glob\n",
        "\n"
      ]
    },
    {
      "cell_type": "code",
      "source": [
        "\n",
        "# Path to your dataset directory\n",
        "dataset_dir = '/content/drive/MyDrive/projecto de grad/archive'\n",
        "\n",
        "# List all CSV files in the directory\n",
        "csv_files = glob.glob(os.path.join(dataset_dir, '*.csv'))\n",
        "\n",
        "# Print all CSV files found\n",
        "if csv_files:\n",
        "    print(\"Found the following CSV files:\")\n",
        "    for file in csv_files:\n",
        "        print(file)\n",
        "else:\n",
        "    print(\"No CSV files found in the specified directory!\")\n"
      ],
      "metadata": {
        "colab": {
          "base_uri": "https://localhost:8080/"
        },
        "id": "uh4BdT4spwFP",
        "outputId": "a6dd97a4-0be8-4ceb-91ff-5c5fb09d6aa1"
      },
      "execution_count": null,
      "outputs": [
        {
          "output_type": "stream",
          "name": "stdout",
          "text": [
            "Found the following CSV files:\n",
            "/content/drive/MyDrive/projecto de grad/archive/CTU-IoT-Malware-Capture-1-1conn.log.labeled.csv\n",
            "/content/drive/MyDrive/projecto de grad/archive/CTU-IoT-Malware-Capture-3-1conn.log.labeled.csv\n",
            "/content/drive/MyDrive/projecto de grad/archive/CTU-IoT-Malware-Capture-34-1conn.log.labeled.csv\n",
            "/content/drive/MyDrive/projecto de grad/archive/CTU-IoT-Malware-Capture-20-1conn.log.labeled.csv\n",
            "/content/drive/MyDrive/projecto de grad/archive/CTU-IoT-Malware-Capture-21-1conn.log.labeled.csv\n",
            "/content/drive/MyDrive/projecto de grad/archive/CTU-IoT-Malware-Capture-35-1conn.log.labeled.csv\n",
            "/content/drive/MyDrive/projecto de grad/archive/CTU-IoT-Malware-Capture-44-1conn.log.labeled.csv\n",
            "/content/drive/MyDrive/projecto de grad/archive/CTU-IoT-Malware-Capture-42-1conn.log.labeled.csv\n",
            "/content/drive/MyDrive/projecto de grad/archive/CTU-IoT-Malware-Capture-48-1conn.log.labeled.csv\n",
            "/content/drive/MyDrive/projecto de grad/archive/CTU-IoT-Malware-Capture-60-1conn.log.labeled.csv\n",
            "/content/drive/MyDrive/projecto de grad/archive/CTU-IoT-Malware-Capture-9-1conn.log.labeled.csv\n"
          ]
        }
      ]
    },
    {
      "cell_type": "code",
      "source": [
        "import pandas as pd\n",
        "import os\n",
        "from sklearn.model_selection import train_test_split\n",
        "from sklearn.preprocessing import StandardScaler, LabelEncoder\n",
        "from sklearn.metrics import accuracy_score, f1_score, classification_report\n",
        "import numpy as np\n",
        "import tensorflow as tf\n",
        "from tensorflow.keras.models import Sequential\n",
        "from tensorflow.keras.layers import Dense, Dropout, Conv1D, Flatten, MaxPooling1D, LSTM, Reshape, Input, MultiHeadAttention, LayerNormalization, GlobalAveragePooling1D\n",
        "from tensorflow.keras.callbacks import EarlyStopping\n",
        "import matplotlib.pyplot as plt"
      ],
      "metadata": {
        "id": "o9JJJ8u2KDid"
      },
      "execution_count": null,
      "outputs": []
    },
    {
      "cell_type": "code",
      "source": [
        "\n",
        "\n",
        "# Step 1: Load the Dataset\n",
        "print(\"Available CSV files in your dataset directory:\")\n",
        "for i, file in enumerate(csv_files):\n",
        "    print(f\"{i + 1}. {file}\")\n",
        "\n",
        "\n",
        "dfs = []\n",
        "for dataset_file in csv_files:\n",
        "    print(\"\\nLoading dataset from:\", dataset_file)\n",
        "    df_temp = pd.read_csv(dataset_file, delimiter='|', low_memory=False, na_values=['?', 'NA', 'null', '-'])\n",
        "    dfs.append(df_temp)\n"
      ],
      "metadata": {
        "colab": {
          "base_uri": "https://localhost:8080/"
        },
        "id": "8_06X2frp0vB",
        "outputId": "7383ca11-f3bf-4c1b-c873-dbcc2465fe55"
      },
      "execution_count": null,
      "outputs": [
        {
          "output_type": "stream",
          "name": "stdout",
          "text": [
            "Available CSV files in your dataset directory:\n",
            "1. /content/drive/MyDrive/projecto de grad/archive/CTU-IoT-Malware-Capture-1-1conn.log.labeled.csv\n",
            "2. /content/drive/MyDrive/projecto de grad/archive/CTU-IoT-Malware-Capture-3-1conn.log.labeled.csv\n",
            "3. /content/drive/MyDrive/projecto de grad/archive/CTU-IoT-Malware-Capture-34-1conn.log.labeled.csv\n",
            "4. /content/drive/MyDrive/projecto de grad/archive/CTU-IoT-Malware-Capture-20-1conn.log.labeled.csv\n",
            "5. /content/drive/MyDrive/projecto de grad/archive/CTU-IoT-Malware-Capture-21-1conn.log.labeled.csv\n",
            "6. /content/drive/MyDrive/projecto de grad/archive/CTU-IoT-Malware-Capture-35-1conn.log.labeled.csv\n",
            "7. /content/drive/MyDrive/projecto de grad/archive/CTU-IoT-Malware-Capture-44-1conn.log.labeled.csv\n",
            "8. /content/drive/MyDrive/projecto de grad/archive/CTU-IoT-Malware-Capture-42-1conn.log.labeled.csv\n",
            "9. /content/drive/MyDrive/projecto de grad/archive/CTU-IoT-Malware-Capture-48-1conn.log.labeled.csv\n",
            "10. /content/drive/MyDrive/projecto de grad/archive/CTU-IoT-Malware-Capture-60-1conn.log.labeled.csv\n",
            "11. /content/drive/MyDrive/projecto de grad/archive/CTU-IoT-Malware-Capture-9-1conn.log.labeled.csv\n",
            "\n",
            "Loading dataset from: /content/drive/MyDrive/projecto de grad/archive/CTU-IoT-Malware-Capture-1-1conn.log.labeled.csv\n",
            "\n",
            "Loading dataset from: /content/drive/MyDrive/projecto de grad/archive/CTU-IoT-Malware-Capture-3-1conn.log.labeled.csv\n",
            "\n",
            "Loading dataset from: /content/drive/MyDrive/projecto de grad/archive/CTU-IoT-Malware-Capture-34-1conn.log.labeled.csv\n",
            "\n",
            "Loading dataset from: /content/drive/MyDrive/projecto de grad/archive/CTU-IoT-Malware-Capture-20-1conn.log.labeled.csv\n",
            "\n",
            "Loading dataset from: /content/drive/MyDrive/projecto de grad/archive/CTU-IoT-Malware-Capture-21-1conn.log.labeled.csv\n",
            "\n",
            "Loading dataset from: /content/drive/MyDrive/projecto de grad/archive/CTU-IoT-Malware-Capture-35-1conn.log.labeled.csv\n",
            "\n",
            "Loading dataset from: /content/drive/MyDrive/projecto de grad/archive/CTU-IoT-Malware-Capture-44-1conn.log.labeled.csv\n",
            "\n",
            "Loading dataset from: /content/drive/MyDrive/projecto de grad/archive/CTU-IoT-Malware-Capture-42-1conn.log.labeled.csv\n",
            "\n",
            "Loading dataset from: /content/drive/MyDrive/projecto de grad/archive/CTU-IoT-Malware-Capture-48-1conn.log.labeled.csv\n",
            "\n",
            "Loading dataset from: /content/drive/MyDrive/projecto de grad/archive/CTU-IoT-Malware-Capture-60-1conn.log.labeled.csv\n",
            "\n",
            "Loading dataset from: /content/drive/MyDrive/projecto de grad/archive/CTU-IoT-Malware-Capture-9-1conn.log.labeled.csv\n"
          ]
        }
      ]
    },
    {
      "cell_type": "code",
      "source": [
        "df_temp=None\n",
        "# Display the first few rows\n",
        "print(\"First 5 rows of the dataset:\")\n",
        "print(df.head())"
      ],
      "metadata": {
        "colab": {
          "base_uri": "https://localhost:8080/"
        },
        "id": "uU5AmuBnrF-m",
        "outputId": "2767a498-028a-451a-b2a7-a69b0a1b0e2c"
      },
      "execution_count": null,
      "outputs": [
        {
          "output_type": "stream",
          "name": "stdout",
          "text": [
            "First 5 rows of the dataset:\n",
            "             ts                 uid        id.orig_h  id.orig_p  \\\n",
            "0  1.525880e+09  CUmrqr4svHuSXJy5z7  192.168.100.103    51524.0   \n",
            "1  1.525880e+09  CH98aB3s1kJeq6SFOc  192.168.100.103    56305.0   \n",
            "2  1.525880e+09   C3GBTkINvXNjVGtN5  192.168.100.103    41101.0   \n",
            "3  1.525880e+09   CDe43c1PtgynajGI6  192.168.100.103    60905.0   \n",
            "4  1.525880e+09  CJaDcG3MZzvf1YVYI4  192.168.100.103    44301.0   \n",
            "\n",
            "         id.resp_h  id.resp_p proto service  duration  orig_bytes  ...  \\\n",
            "0   65.127.233.163       23.0   tcp     NaN  2.999051         0.0  ...   \n",
            "1    63.150.16.171       23.0   tcp     NaN       NaN         NaN  ...   \n",
            "2     111.40.23.49       23.0   tcp     NaN       NaN         NaN  ...   \n",
            "3  131.174.215.147       23.0   tcp     NaN  2.998796         0.0  ...   \n",
            "4      91.42.47.63       23.0   tcp     NaN       NaN         NaN  ...   \n",
            "\n",
            "   local_resp missed_bytes  history  orig_pkts  orig_ip_bytes resp_pkts  \\\n",
            "0         NaN          0.0        S        3.0          180.0       0.0   \n",
            "1         NaN          0.0        S        1.0           60.0       0.0   \n",
            "2         NaN          0.0        S        1.0           60.0       0.0   \n",
            "3         NaN          0.0        S        3.0          180.0       0.0   \n",
            "4         NaN          0.0        S        1.0           60.0       0.0   \n",
            "\n",
            "   resp_ip_bytes  tunnel_parents      label             detailed-label  \n",
            "0            0.0             NaN  Malicious  PartOfAHorizontalPortScan  \n",
            "1            0.0             NaN  Malicious  PartOfAHorizontalPortScan  \n",
            "2            0.0             NaN  Malicious  PartOfAHorizontalPortScan  \n",
            "3            0.0             NaN  Malicious  PartOfAHorizontalPortScan  \n",
            "4            0.0             NaN  Malicious  PartOfAHorizontalPortScan  \n",
            "\n",
            "[5 rows x 23 columns]\n"
          ]
        }
      ]
    },
    {
      "cell_type": "code",
      "source": [
        "\n",
        "\n",
        "# Basic dataset information\n",
        "print(\"\\nDataset Info:\")\n",
        "print(df.info())\n"
      ],
      "metadata": {
        "colab": {
          "base_uri": "https://localhost:8080/"
        },
        "id": "koW0a4PlqBC4",
        "outputId": "07c076ab-0228-446d-e6e5-d6b601db347f"
      },
      "execution_count": null,
      "outputs": [
        {
          "output_type": "stream",
          "name": "stdout",
          "text": [
            "\n",
            "Dataset Info:\n",
            "<class 'pandas.core.frame.DataFrame'>\n",
            "RangeIndex: 1008748 entries, 0 to 1008747\n",
            "Data columns (total 23 columns):\n",
            " #   Column          Non-Null Count    Dtype  \n",
            "---  ------          --------------    -----  \n",
            " 0   ts              1008748 non-null  float64\n",
            " 1   uid             1008748 non-null  object \n",
            " 2   id.orig_h       1008748 non-null  object \n",
            " 3   id.orig_p       1008748 non-null  float64\n",
            " 4   id.resp_h       1008748 non-null  object \n",
            " 5   id.resp_p       1008748 non-null  float64\n",
            " 6   proto           1008748 non-null  object \n",
            " 7   service         3241 non-null     object \n",
            " 8   duration        212448 non-null   float64\n",
            " 9   orig_bytes      212448 non-null   float64\n",
            " 10  resp_bytes      212448 non-null   float64\n",
            " 11  conn_state      1008748 non-null  object \n",
            " 12  local_orig      0 non-null        float64\n",
            " 13  local_resp      0 non-null        float64\n",
            " 14  missed_bytes    1008748 non-null  float64\n",
            " 15  history         991327 non-null   object \n",
            " 16  orig_pkts       1008748 non-null  float64\n",
            " 17  orig_ip_bytes   1008748 non-null  float64\n",
            " 18  resp_pkts       1008748 non-null  float64\n",
            " 19  resp_ip_bytes   1008748 non-null  float64\n",
            " 20  tunnel_parents  0 non-null        float64\n",
            " 21  label           1008748 non-null  object \n",
            " 22  detailed-label  539473 non-null   object \n",
            "dtypes: float64(14), object(9)\n",
            "memory usage: 177.0+ MB\n",
            "None\n"
          ]
        }
      ]
    },
    {
      "cell_type": "code",
      "source": [
        "\n",
        "print(\"\\nMissing Values:\")\n",
        "print(df.isnull().sum())"
      ],
      "metadata": {
        "colab": {
          "base_uri": "https://localhost:8080/"
        },
        "id": "2Qu9AuoyqHSV",
        "outputId": "5a00af47-5be1-4d73-f24b-285e40f6158e"
      },
      "execution_count": null,
      "outputs": [
        {
          "output_type": "stream",
          "name": "stdout",
          "text": [
            "\n",
            "Missing Values:\n",
            "ts                      0\n",
            "uid                     0\n",
            "id.orig_h               0\n",
            "id.orig_p               0\n",
            "id.resp_h               0\n",
            "id.resp_p               0\n",
            "proto                   0\n",
            "service           1005507\n",
            "duration           796300\n",
            "orig_bytes         796300\n",
            "resp_bytes         796300\n",
            "conn_state              0\n",
            "local_orig        1008748\n",
            "local_resp        1008748\n",
            "missed_bytes            0\n",
            "history             17421\n",
            "orig_pkts               0\n",
            "orig_ip_bytes           0\n",
            "resp_pkts               0\n",
            "resp_ip_bytes           0\n",
            "tunnel_parents    1008748\n",
            "label                   0\n",
            "detailed-label     469275\n",
            "dtype: int64\n"
          ]
        }
      ]
    },
    {
      "cell_type": "code",
      "source": [
        "\n",
        "# Step 3: Clean Missing Values\n",
        "# Drop columns with more than 50% missing values\n",
        "missing_threshold = 0.2\n",
        "total_rows = len(df)\n",
        "columns_to_drop = [col for col in df.columns if df[col].isnull().sum() / total_rows > missing_threshold]\n",
        "print(\"\\nDropping columns with more than 50% missing values:\", columns_to_drop)\n",
        "df = df.drop(columns=columns_to_drop)"
      ],
      "metadata": {
        "colab": {
          "base_uri": "https://localhost:8080/"
        },
        "id": "C0BBfV5Csoba",
        "outputId": "77aeb01f-973f-4086-cf12-e3e2560d7f84"
      },
      "execution_count": null,
      "outputs": [
        {
          "output_type": "stream",
          "name": "stdout",
          "text": [
            "\n",
            "Dropping columns with more than 50% missing values: ['service', 'duration', 'orig_bytes', 'resp_bytes', 'local_orig', 'local_resp', 'tunnel_parents', 'detailed-label']\n"
          ]
        }
      ]
    },
    {
      "cell_type": "code",
      "source": [
        "print(df.isnull().sum())"
      ],
      "metadata": {
        "colab": {
          "base_uri": "https://localhost:8080/"
        },
        "id": "SUABKjYUvbyn",
        "outputId": "7aec310f-fe39-4269-d1ed-3d8cb6246f45"
      },
      "execution_count": null,
      "outputs": [
        {
          "output_type": "stream",
          "name": "stdout",
          "text": [
            "ts                   0\n",
            "uid                  0\n",
            "id.orig_h            0\n",
            "id.orig_p            0\n",
            "id.resp_h            0\n",
            "id.resp_p            0\n",
            "proto                0\n",
            "conn_state           0\n",
            "missed_bytes         0\n",
            "history          17421\n",
            "orig_pkts            0\n",
            "orig_ip_bytes        0\n",
            "resp_pkts            0\n",
            "resp_ip_bytes        0\n",
            "label                0\n",
            "dtype: int64\n"
          ]
        }
      ]
    },
    {
      "cell_type": "code",
      "source": [
        "# Drop rows where 'history' has missing values\n",
        "if 'history' in df.columns:\n",
        "    print(\"\\nDropping rows with missing 'history' values\")\n",
        "    df = df.dropna(subset=['history'])"
      ],
      "metadata": {
        "colab": {
          "base_uri": "https://localhost:8080/"
        },
        "id": "hKTs9NwxvdpP",
        "outputId": "e7f10255-7f91-48ed-8b81-3789be2726e9"
      },
      "execution_count": null,
      "outputs": [
        {
          "output_type": "stream",
          "name": "stdout",
          "text": [
            "\n",
            "Dropping rows with missing 'history' values\n"
          ]
        }
      ]
    },
    {
      "cell_type": "code",
      "source": [
        "# Count unique values for each column\n",
        "unique_counts = df.nunique()\n",
        "\n",
        "# Display columns with all unique or single unique values\n",
        "print(\"Columns with all unique values:\")\n",
        "print(unique_counts[unique_counts == len(df)])  # Likely IDs or timestamps\n",
        "\n",
        "print(\"\\nColumns with a single unique value:\")\n",
        "print(unique_counts[unique_counts <= 1])  # Not useful"
      ],
      "metadata": {
        "colab": {
          "base_uri": "https://localhost:8080/"
        },
        "id": "qKQJBfT-xPx-",
        "outputId": "0dca2c0c-ed9f-467c-c911-f2b717608c15"
      },
      "execution_count": null,
      "outputs": [
        {
          "output_type": "stream",
          "name": "stdout",
          "text": [
            "Columns with all unique values:\n",
            "ts     991327\n",
            "uid    991327\n",
            "dtype: int64\n",
            "\n",
            "Columns with a single unique value:\n",
            "missed_bytes    1\n",
            "dtype: int64\n"
          ]
        }
      ]
    },
    {
      "cell_type": "code",
      "source": [
        "#No need for IPs or UID because of biased\n",
        "#tunnel parents local resp and local_origen doesnt have anything\n",
        "irrelevant_cols = ['uid', 'ts', 'id.orig_h', 'id.resp_h']\n",
        "df.drop(columns=irrelevant_cols, inplace=True)\n"
      ],
      "metadata": {
        "id": "wKHd2d4TxVIc"
      },
      "execution_count": null,
      "outputs": []
    },
    {
      "cell_type": "code",
      "source": [
        "print(df.head())"
      ],
      "metadata": {
        "colab": {
          "base_uri": "https://localhost:8080/"
        },
        "id": "-nejjLCixVD_",
        "outputId": "17e77a79-8522-4ebe-a13a-da98d98ffc65"
      },
      "execution_count": null,
      "outputs": [
        {
          "output_type": "stream",
          "name": "stdout",
          "text": [
            "   id.orig_p  id.resp_p proto conn_state  missed_bytes history  orig_pkts  \\\n",
            "0    51524.0       23.0   tcp         S0           0.0       S        3.0   \n",
            "1    56305.0       23.0   tcp         S0           0.0       S        1.0   \n",
            "2    41101.0       23.0   tcp         S0           0.0       S        1.0   \n",
            "3    60905.0       23.0   tcp         S0           0.0       S        3.0   \n",
            "4    44301.0       23.0   tcp         S0           0.0       S        1.0   \n",
            "\n",
            "   orig_ip_bytes  resp_pkts  resp_ip_bytes      label  \n",
            "0          180.0        0.0            0.0  Malicious  \n",
            "1           60.0        0.0            0.0  Malicious  \n",
            "2           60.0        0.0            0.0  Malicious  \n",
            "3          180.0        0.0            0.0  Malicious  \n",
            "4           60.0        0.0            0.0  Malicious  \n"
          ]
        }
      ]
    },
    {
      "cell_type": "code",
      "source": [],
      "metadata": {
        "id": "Jfyc8Y19xU7a"
      },
      "execution_count": null,
      "outputs": []
    },
    {
      "cell_type": "code",
      "source": [
        "#this is a csv file with the data already precleaned to prevent ram overusage\n",
        "dataset_file=\"/content/drive/MyDrive/combined_data.csv\"\n",
        "df = pd.read_csv(dataset_file)\n"
      ],
      "metadata": {
        "id": "seOq1QHek0CM",
        "colab": {
          "base_uri": "https://localhost:8080/",
          "height": 539
        },
        "outputId": "39f05f4a-f5c8-4c65-cc8f-2a4ae3156926"
      },
      "execution_count": null,
      "outputs": [
        {
          "output_type": "error",
          "ename": "ParserError",
          "evalue": "Error tokenizing data. C error: Calling read(nbytes) on source failed. Try engine='python'.",
          "traceback": [
            "\u001b[0;31m---------------------------------------------------------------------------\u001b[0m",
            "\u001b[0;31mParserError\u001b[0m                               Traceback (most recent call last)",
            "\u001b[0;32m<ipython-input-4-ebdacfb14cd4>\u001b[0m in \u001b[0;36m<cell line: 3>\u001b[0;34m()\u001b[0m\n\u001b[1;32m      1\u001b[0m \u001b[0;31m#this is a csv file with the data already precleaned to prevent ram overusage\u001b[0m\u001b[0;34m\u001b[0m\u001b[0;34m\u001b[0m\u001b[0m\n\u001b[1;32m      2\u001b[0m \u001b[0mdataset_file\u001b[0m\u001b[0;34m=\u001b[0m\u001b[0;34m\"/content/drive/MyDrive/combined_data.csv\"\u001b[0m\u001b[0;34m\u001b[0m\u001b[0;34m\u001b[0m\u001b[0m\n\u001b[0;32m----> 3\u001b[0;31m \u001b[0mdf\u001b[0m \u001b[0;34m=\u001b[0m \u001b[0mpd\u001b[0m\u001b[0;34m.\u001b[0m\u001b[0mread_csv\u001b[0m\u001b[0;34m(\u001b[0m\u001b[0mdataset_file\u001b[0m\u001b[0;34m)\u001b[0m\u001b[0;34m\u001b[0m\u001b[0;34m\u001b[0m\u001b[0m\n\u001b[0m",
            "\u001b[0;32m/usr/local/lib/python3.10/dist-packages/pandas/io/parsers/readers.py\u001b[0m in \u001b[0;36mread_csv\u001b[0;34m(filepath_or_buffer, sep, delimiter, header, names, index_col, usecols, dtype, engine, converters, true_values, false_values, skipinitialspace, skiprows, skipfooter, nrows, na_values, keep_default_na, na_filter, verbose, skip_blank_lines, parse_dates, infer_datetime_format, keep_date_col, date_parser, date_format, dayfirst, cache_dates, iterator, chunksize, compression, thousands, decimal, lineterminator, quotechar, quoting, doublequote, escapechar, comment, encoding, encoding_errors, dialect, on_bad_lines, delim_whitespace, low_memory, memory_map, float_precision, storage_options, dtype_backend)\u001b[0m\n\u001b[1;32m   1024\u001b[0m     \u001b[0mkwds\u001b[0m\u001b[0;34m.\u001b[0m\u001b[0mupdate\u001b[0m\u001b[0;34m(\u001b[0m\u001b[0mkwds_defaults\u001b[0m\u001b[0;34m)\u001b[0m\u001b[0;34m\u001b[0m\u001b[0;34m\u001b[0m\u001b[0m\n\u001b[1;32m   1025\u001b[0m \u001b[0;34m\u001b[0m\u001b[0m\n\u001b[0;32m-> 1026\u001b[0;31m     \u001b[0;32mreturn\u001b[0m \u001b[0m_read\u001b[0m\u001b[0;34m(\u001b[0m\u001b[0mfilepath_or_buffer\u001b[0m\u001b[0;34m,\u001b[0m \u001b[0mkwds\u001b[0m\u001b[0;34m)\u001b[0m\u001b[0;34m\u001b[0m\u001b[0;34m\u001b[0m\u001b[0m\n\u001b[0m\u001b[1;32m   1027\u001b[0m \u001b[0;34m\u001b[0m\u001b[0m\n\u001b[1;32m   1028\u001b[0m \u001b[0;34m\u001b[0m\u001b[0m\n",
            "\u001b[0;32m/usr/local/lib/python3.10/dist-packages/pandas/io/parsers/readers.py\u001b[0m in \u001b[0;36m_read\u001b[0;34m(filepath_or_buffer, kwds)\u001b[0m\n\u001b[1;32m    624\u001b[0m \u001b[0;34m\u001b[0m\u001b[0m\n\u001b[1;32m    625\u001b[0m     \u001b[0;32mwith\u001b[0m \u001b[0mparser\u001b[0m\u001b[0;34m:\u001b[0m\u001b[0;34m\u001b[0m\u001b[0;34m\u001b[0m\u001b[0m\n\u001b[0;32m--> 626\u001b[0;31m         \u001b[0;32mreturn\u001b[0m \u001b[0mparser\u001b[0m\u001b[0;34m.\u001b[0m\u001b[0mread\u001b[0m\u001b[0;34m(\u001b[0m\u001b[0mnrows\u001b[0m\u001b[0;34m)\u001b[0m\u001b[0;34m\u001b[0m\u001b[0;34m\u001b[0m\u001b[0m\n\u001b[0m\u001b[1;32m    627\u001b[0m \u001b[0;34m\u001b[0m\u001b[0m\n\u001b[1;32m    628\u001b[0m \u001b[0;34m\u001b[0m\u001b[0m\n",
            "\u001b[0;32m/usr/local/lib/python3.10/dist-packages/pandas/io/parsers/readers.py\u001b[0m in \u001b[0;36mread\u001b[0;34m(self, nrows)\u001b[0m\n\u001b[1;32m   1921\u001b[0m                     \u001b[0mcolumns\u001b[0m\u001b[0;34m,\u001b[0m\u001b[0;34m\u001b[0m\u001b[0;34m\u001b[0m\u001b[0m\n\u001b[1;32m   1922\u001b[0m                     \u001b[0mcol_dict\u001b[0m\u001b[0;34m,\u001b[0m\u001b[0;34m\u001b[0m\u001b[0;34m\u001b[0m\u001b[0m\n\u001b[0;32m-> 1923\u001b[0;31m                 \u001b[0;34m)\u001b[0m \u001b[0;34m=\u001b[0m \u001b[0mself\u001b[0m\u001b[0;34m.\u001b[0m\u001b[0m_engine\u001b[0m\u001b[0;34m.\u001b[0m\u001b[0mread\u001b[0m\u001b[0;34m(\u001b[0m  \u001b[0;31m# type: ignore[attr-defined]\u001b[0m\u001b[0;34m\u001b[0m\u001b[0;34m\u001b[0m\u001b[0m\n\u001b[0m\u001b[1;32m   1924\u001b[0m                     \u001b[0mnrows\u001b[0m\u001b[0;34m\u001b[0m\u001b[0;34m\u001b[0m\u001b[0m\n\u001b[1;32m   1925\u001b[0m                 )\n",
            "\u001b[0;32m/usr/local/lib/python3.10/dist-packages/pandas/io/parsers/c_parser_wrapper.py\u001b[0m in \u001b[0;36mread\u001b[0;34m(self, nrows)\u001b[0m\n\u001b[1;32m    232\u001b[0m         \u001b[0;32mtry\u001b[0m\u001b[0;34m:\u001b[0m\u001b[0;34m\u001b[0m\u001b[0;34m\u001b[0m\u001b[0m\n\u001b[1;32m    233\u001b[0m             \u001b[0;32mif\u001b[0m \u001b[0mself\u001b[0m\u001b[0;34m.\u001b[0m\u001b[0mlow_memory\u001b[0m\u001b[0;34m:\u001b[0m\u001b[0;34m\u001b[0m\u001b[0;34m\u001b[0m\u001b[0m\n\u001b[0;32m--> 234\u001b[0;31m                 \u001b[0mchunks\u001b[0m \u001b[0;34m=\u001b[0m \u001b[0mself\u001b[0m\u001b[0;34m.\u001b[0m\u001b[0m_reader\u001b[0m\u001b[0;34m.\u001b[0m\u001b[0mread_low_memory\u001b[0m\u001b[0;34m(\u001b[0m\u001b[0mnrows\u001b[0m\u001b[0;34m)\u001b[0m\u001b[0;34m\u001b[0m\u001b[0;34m\u001b[0m\u001b[0m\n\u001b[0m\u001b[1;32m    235\u001b[0m                 \u001b[0;31m# destructive to chunks\u001b[0m\u001b[0;34m\u001b[0m\u001b[0;34m\u001b[0m\u001b[0m\n\u001b[1;32m    236\u001b[0m                 \u001b[0mdata\u001b[0m \u001b[0;34m=\u001b[0m \u001b[0m_concatenate_chunks\u001b[0m\u001b[0;34m(\u001b[0m\u001b[0mchunks\u001b[0m\u001b[0;34m)\u001b[0m\u001b[0;34m\u001b[0m\u001b[0;34m\u001b[0m\u001b[0m\n",
            "\u001b[0;32mparsers.pyx\u001b[0m in \u001b[0;36mpandas._libs.parsers.TextReader.read_low_memory\u001b[0;34m()\u001b[0m\n",
            "\u001b[0;32mparsers.pyx\u001b[0m in \u001b[0;36mpandas._libs.parsers.TextReader._read_rows\u001b[0;34m()\u001b[0m\n",
            "\u001b[0;32mparsers.pyx\u001b[0m in \u001b[0;36mpandas._libs.parsers.TextReader._tokenize_rows\u001b[0;34m()\u001b[0m\n",
            "\u001b[0;32mparsers.pyx\u001b[0m in \u001b[0;36mpandas._libs.parsers.TextReader._check_tokenize_status\u001b[0;34m()\u001b[0m\n",
            "\u001b[0;32mparsers.pyx\u001b[0m in \u001b[0;36mpandas._libs.parsers.raise_parser_error\u001b[0;34m()\u001b[0m\n",
            "\u001b[0;31mParserError\u001b[0m: Error tokenizing data. C error: Calling read(nbytes) on source failed. Try engine='python'."
          ]
        }
      ]
    },
    {
      "cell_type": "code",
      "source": [
        "\n",
        "# Load the dataset and take a random 50% sample for faster calculations and ram usage in collab\n",
        "print(\"Loading and sampling the dataset...\")\n",
        "df_temp = pd.read_csv(dataset_file)\n",
        "df = df_temp.sample(frac=0.5, random_state=42)  # 50% sample, random_state ensures reproducibility\n",
        "\n",
        "print(f\"Original dataset shape: {df_temp.shape}\")\n",
        "print(f\"Sampled dataset shape: {df.shape}\")\n"
      ],
      "metadata": {
        "id": "y4yUjKO3xUzm",
        "colab": {
          "base_uri": "https://localhost:8080/"
        },
        "outputId": "a187605a-fdad-45fb-cd71-2df790d26ba5"
      },
      "execution_count": null,
      "outputs": [
        {
          "output_type": "stream",
          "name": "stdout",
          "text": [
            "Loading and sampling the dataset...\n",
            "Original dataset shape: (24975484, 11)\n",
            "Sampled dataset shape: (12487742, 11)\n"
          ]
        }
      ]
    },
    {
      "cell_type": "code",
      "source": [
        "del df_temp"
      ],
      "metadata": {
        "id": "5pus7Smb3Fg6"
      },
      "execution_count": null,
      "outputs": []
    },
    {
      "cell_type": "code",
      "source": [
        "df.head()"
      ],
      "metadata": {
        "colab": {
          "base_uri": "https://localhost:8080/",
          "height": 244
        },
        "id": "xGETGu5l3TOh",
        "outputId": "e49a92cb-5c06-4f22-ffdf-eb87ec19607e"
      },
      "execution_count": null,
      "outputs": [
        {
          "output_type": "execute_result",
          "data": {
            "text/plain": [
              "          id.orig_p  id.resp_p proto conn_state  missed_bytes history  \\\n",
              "1834657     54758.0       23.0   tcp         S0           0.0       S   \n",
              "7810837     60826.0      992.0   tcp     RSTOS0           0.0       I   \n",
              "22790349    46168.0       23.0   tcp         S0           0.0       S   \n",
              "1798054     35536.0       23.0   tcp         S0           0.0       S   \n",
              "20117947     3581.0    62336.0   tcp        OTH           0.0       C   \n",
              "\n",
              "          orig_pkts  orig_ip_bytes  resp_pkts  resp_ip_bytes  \\\n",
              "1834657         1.0           60.0        0.0            0.0   \n",
              "7810837         2.0           80.0        0.0            0.0   \n",
              "22790349        6.0          360.0        0.0            0.0   \n",
              "1798054         1.0           60.0        0.0            0.0   \n",
              "20117947        0.0            0.0        0.0            0.0   \n",
              "\n",
              "                                          label  \n",
              "1834657                                  Benign  \n",
              "7810837                        Malicious   DDoS  \n",
              "22790349  Malicious   PartOfAHorizontalPortScan  \n",
              "1798054                                  Benign  \n",
              "20117947                       Malicious   DDoS  "
            ],
            "text/html": [
              "\n",
              "  <div id=\"df-13aca34f-e80c-4e81-99f5-251331df0f1a\" class=\"colab-df-container\">\n",
              "    <div>\n",
              "<style scoped>\n",
              "    .dataframe tbody tr th:only-of-type {\n",
              "        vertical-align: middle;\n",
              "    }\n",
              "\n",
              "    .dataframe tbody tr th {\n",
              "        vertical-align: top;\n",
              "    }\n",
              "\n",
              "    .dataframe thead th {\n",
              "        text-align: right;\n",
              "    }\n",
              "</style>\n",
              "<table border=\"1\" class=\"dataframe\">\n",
              "  <thead>\n",
              "    <tr style=\"text-align: right;\">\n",
              "      <th></th>\n",
              "      <th>id.orig_p</th>\n",
              "      <th>id.resp_p</th>\n",
              "      <th>proto</th>\n",
              "      <th>conn_state</th>\n",
              "      <th>missed_bytes</th>\n",
              "      <th>history</th>\n",
              "      <th>orig_pkts</th>\n",
              "      <th>orig_ip_bytes</th>\n",
              "      <th>resp_pkts</th>\n",
              "      <th>resp_ip_bytes</th>\n",
              "      <th>label</th>\n",
              "    </tr>\n",
              "  </thead>\n",
              "  <tbody>\n",
              "    <tr>\n",
              "      <th>1834657</th>\n",
              "      <td>54758.0</td>\n",
              "      <td>23.0</td>\n",
              "      <td>tcp</td>\n",
              "      <td>S0</td>\n",
              "      <td>0.0</td>\n",
              "      <td>S</td>\n",
              "      <td>1.0</td>\n",
              "      <td>60.0</td>\n",
              "      <td>0.0</td>\n",
              "      <td>0.0</td>\n",
              "      <td>Benign</td>\n",
              "    </tr>\n",
              "    <tr>\n",
              "      <th>7810837</th>\n",
              "      <td>60826.0</td>\n",
              "      <td>992.0</td>\n",
              "      <td>tcp</td>\n",
              "      <td>RSTOS0</td>\n",
              "      <td>0.0</td>\n",
              "      <td>I</td>\n",
              "      <td>2.0</td>\n",
              "      <td>80.0</td>\n",
              "      <td>0.0</td>\n",
              "      <td>0.0</td>\n",
              "      <td>Malicious   DDoS</td>\n",
              "    </tr>\n",
              "    <tr>\n",
              "      <th>22790349</th>\n",
              "      <td>46168.0</td>\n",
              "      <td>23.0</td>\n",
              "      <td>tcp</td>\n",
              "      <td>S0</td>\n",
              "      <td>0.0</td>\n",
              "      <td>S</td>\n",
              "      <td>6.0</td>\n",
              "      <td>360.0</td>\n",
              "      <td>0.0</td>\n",
              "      <td>0.0</td>\n",
              "      <td>Malicious   PartOfAHorizontalPortScan</td>\n",
              "    </tr>\n",
              "    <tr>\n",
              "      <th>1798054</th>\n",
              "      <td>35536.0</td>\n",
              "      <td>23.0</td>\n",
              "      <td>tcp</td>\n",
              "      <td>S0</td>\n",
              "      <td>0.0</td>\n",
              "      <td>S</td>\n",
              "      <td>1.0</td>\n",
              "      <td>60.0</td>\n",
              "      <td>0.0</td>\n",
              "      <td>0.0</td>\n",
              "      <td>Benign</td>\n",
              "    </tr>\n",
              "    <tr>\n",
              "      <th>20117947</th>\n",
              "      <td>3581.0</td>\n",
              "      <td>62336.0</td>\n",
              "      <td>tcp</td>\n",
              "      <td>OTH</td>\n",
              "      <td>0.0</td>\n",
              "      <td>C</td>\n",
              "      <td>0.0</td>\n",
              "      <td>0.0</td>\n",
              "      <td>0.0</td>\n",
              "      <td>0.0</td>\n",
              "      <td>Malicious   DDoS</td>\n",
              "    </tr>\n",
              "  </tbody>\n",
              "</table>\n",
              "</div>\n",
              "    <div class=\"colab-df-buttons\">\n",
              "\n",
              "  <div class=\"colab-df-container\">\n",
              "    <button class=\"colab-df-convert\" onclick=\"convertToInteractive('df-13aca34f-e80c-4e81-99f5-251331df0f1a')\"\n",
              "            title=\"Convert this dataframe to an interactive table.\"\n",
              "            style=\"display:none;\">\n",
              "\n",
              "  <svg xmlns=\"http://www.w3.org/2000/svg\" height=\"24px\" viewBox=\"0 -960 960 960\">\n",
              "    <path d=\"M120-120v-720h720v720H120Zm60-500h600v-160H180v160Zm220 220h160v-160H400v160Zm0 220h160v-160H400v160ZM180-400h160v-160H180v160Zm440 0h160v-160H620v160ZM180-180h160v-160H180v160Zm440 0h160v-160H620v160Z\"/>\n",
              "  </svg>\n",
              "    </button>\n",
              "\n",
              "  <style>\n",
              "    .colab-df-container {\n",
              "      display:flex;\n",
              "      gap: 12px;\n",
              "    }\n",
              "\n",
              "    .colab-df-convert {\n",
              "      background-color: #E8F0FE;\n",
              "      border: none;\n",
              "      border-radius: 50%;\n",
              "      cursor: pointer;\n",
              "      display: none;\n",
              "      fill: #1967D2;\n",
              "      height: 32px;\n",
              "      padding: 0 0 0 0;\n",
              "      width: 32px;\n",
              "    }\n",
              "\n",
              "    .colab-df-convert:hover {\n",
              "      background-color: #E2EBFA;\n",
              "      box-shadow: 0px 1px 2px rgba(60, 64, 67, 0.3), 0px 1px 3px 1px rgba(60, 64, 67, 0.15);\n",
              "      fill: #174EA6;\n",
              "    }\n",
              "\n",
              "    .colab-df-buttons div {\n",
              "      margin-bottom: 4px;\n",
              "    }\n",
              "\n",
              "    [theme=dark] .colab-df-convert {\n",
              "      background-color: #3B4455;\n",
              "      fill: #D2E3FC;\n",
              "    }\n",
              "\n",
              "    [theme=dark] .colab-df-convert:hover {\n",
              "      background-color: #434B5C;\n",
              "      box-shadow: 0px 1px 3px 1px rgba(0, 0, 0, 0.15);\n",
              "      filter: drop-shadow(0px 1px 2px rgba(0, 0, 0, 0.3));\n",
              "      fill: #FFFFFF;\n",
              "    }\n",
              "  </style>\n",
              "\n",
              "    <script>\n",
              "      const buttonEl =\n",
              "        document.querySelector('#df-13aca34f-e80c-4e81-99f5-251331df0f1a button.colab-df-convert');\n",
              "      buttonEl.style.display =\n",
              "        google.colab.kernel.accessAllowed ? 'block' : 'none';\n",
              "\n",
              "      async function convertToInteractive(key) {\n",
              "        const element = document.querySelector('#df-13aca34f-e80c-4e81-99f5-251331df0f1a');\n",
              "        const dataTable =\n",
              "          await google.colab.kernel.invokeFunction('convertToInteractive',\n",
              "                                                    [key], {});\n",
              "        if (!dataTable) return;\n",
              "\n",
              "        const docLinkHtml = 'Like what you see? Visit the ' +\n",
              "          '<a target=\"_blank\" href=https://colab.research.google.com/notebooks/data_table.ipynb>data table notebook</a>'\n",
              "          + ' to learn more about interactive tables.';\n",
              "        element.innerHTML = '';\n",
              "        dataTable['output_type'] = 'display_data';\n",
              "        await google.colab.output.renderOutput(dataTable, element);\n",
              "        const docLink = document.createElement('div');\n",
              "        docLink.innerHTML = docLinkHtml;\n",
              "        element.appendChild(docLink);\n",
              "      }\n",
              "    </script>\n",
              "  </div>\n",
              "\n",
              "\n",
              "<div id=\"df-1a4b5544-21df-42f7-bb85-12a745a3e5ae\">\n",
              "  <button class=\"colab-df-quickchart\" onclick=\"quickchart('df-1a4b5544-21df-42f7-bb85-12a745a3e5ae')\"\n",
              "            title=\"Suggest charts\"\n",
              "            style=\"display:none;\">\n",
              "\n",
              "<svg xmlns=\"http://www.w3.org/2000/svg\" height=\"24px\"viewBox=\"0 0 24 24\"\n",
              "     width=\"24px\">\n",
              "    <g>\n",
              "        <path d=\"M19 3H5c-1.1 0-2 .9-2 2v14c0 1.1.9 2 2 2h14c1.1 0 2-.9 2-2V5c0-1.1-.9-2-2-2zM9 17H7v-7h2v7zm4 0h-2V7h2v10zm4 0h-2v-4h2v4z\"/>\n",
              "    </g>\n",
              "</svg>\n",
              "  </button>\n",
              "\n",
              "<style>\n",
              "  .colab-df-quickchart {\n",
              "      --bg-color: #E8F0FE;\n",
              "      --fill-color: #1967D2;\n",
              "      --hover-bg-color: #E2EBFA;\n",
              "      --hover-fill-color: #174EA6;\n",
              "      --disabled-fill-color: #AAA;\n",
              "      --disabled-bg-color: #DDD;\n",
              "  }\n",
              "\n",
              "  [theme=dark] .colab-df-quickchart {\n",
              "      --bg-color: #3B4455;\n",
              "      --fill-color: #D2E3FC;\n",
              "      --hover-bg-color: #434B5C;\n",
              "      --hover-fill-color: #FFFFFF;\n",
              "      --disabled-bg-color: #3B4455;\n",
              "      --disabled-fill-color: #666;\n",
              "  }\n",
              "\n",
              "  .colab-df-quickchart {\n",
              "    background-color: var(--bg-color);\n",
              "    border: none;\n",
              "    border-radius: 50%;\n",
              "    cursor: pointer;\n",
              "    display: none;\n",
              "    fill: var(--fill-color);\n",
              "    height: 32px;\n",
              "    padding: 0;\n",
              "    width: 32px;\n",
              "  }\n",
              "\n",
              "  .colab-df-quickchart:hover {\n",
              "    background-color: var(--hover-bg-color);\n",
              "    box-shadow: 0 1px 2px rgba(60, 64, 67, 0.3), 0 1px 3px 1px rgba(60, 64, 67, 0.15);\n",
              "    fill: var(--button-hover-fill-color);\n",
              "  }\n",
              "\n",
              "  .colab-df-quickchart-complete:disabled,\n",
              "  .colab-df-quickchart-complete:disabled:hover {\n",
              "    background-color: var(--disabled-bg-color);\n",
              "    fill: var(--disabled-fill-color);\n",
              "    box-shadow: none;\n",
              "  }\n",
              "\n",
              "  .colab-df-spinner {\n",
              "    border: 2px solid var(--fill-color);\n",
              "    border-color: transparent;\n",
              "    border-bottom-color: var(--fill-color);\n",
              "    animation:\n",
              "      spin 1s steps(1) infinite;\n",
              "  }\n",
              "\n",
              "  @keyframes spin {\n",
              "    0% {\n",
              "      border-color: transparent;\n",
              "      border-bottom-color: var(--fill-color);\n",
              "      border-left-color: var(--fill-color);\n",
              "    }\n",
              "    20% {\n",
              "      border-color: transparent;\n",
              "      border-left-color: var(--fill-color);\n",
              "      border-top-color: var(--fill-color);\n",
              "    }\n",
              "    30% {\n",
              "      border-color: transparent;\n",
              "      border-left-color: var(--fill-color);\n",
              "      border-top-color: var(--fill-color);\n",
              "      border-right-color: var(--fill-color);\n",
              "    }\n",
              "    40% {\n",
              "      border-color: transparent;\n",
              "      border-right-color: var(--fill-color);\n",
              "      border-top-color: var(--fill-color);\n",
              "    }\n",
              "    60% {\n",
              "      border-color: transparent;\n",
              "      border-right-color: var(--fill-color);\n",
              "    }\n",
              "    80% {\n",
              "      border-color: transparent;\n",
              "      border-right-color: var(--fill-color);\n",
              "      border-bottom-color: var(--fill-color);\n",
              "    }\n",
              "    90% {\n",
              "      border-color: transparent;\n",
              "      border-bottom-color: var(--fill-color);\n",
              "    }\n",
              "  }\n",
              "</style>\n",
              "\n",
              "  <script>\n",
              "    async function quickchart(key) {\n",
              "      const quickchartButtonEl =\n",
              "        document.querySelector('#' + key + ' button');\n",
              "      quickchartButtonEl.disabled = true;  // To prevent multiple clicks.\n",
              "      quickchartButtonEl.classList.add('colab-df-spinner');\n",
              "      try {\n",
              "        const charts = await google.colab.kernel.invokeFunction(\n",
              "            'suggestCharts', [key], {});\n",
              "      } catch (error) {\n",
              "        console.error('Error during call to suggestCharts:', error);\n",
              "      }\n",
              "      quickchartButtonEl.classList.remove('colab-df-spinner');\n",
              "      quickchartButtonEl.classList.add('colab-df-quickchart-complete');\n",
              "    }\n",
              "    (() => {\n",
              "      let quickchartButtonEl =\n",
              "        document.querySelector('#df-1a4b5544-21df-42f7-bb85-12a745a3e5ae button');\n",
              "      quickchartButtonEl.style.display =\n",
              "        google.colab.kernel.accessAllowed ? 'block' : 'none';\n",
              "    })();\n",
              "  </script>\n",
              "</div>\n",
              "\n",
              "    </div>\n",
              "  </div>\n"
            ],
            "application/vnd.google.colaboratory.intrinsic+json": {
              "type": "dataframe",
              "variable_name": "df"
            }
          },
          "metadata": {},
          "execution_count": 11
        }
      ]
    },
    {
      "cell_type": "code",
      "source": [
        "df.nunique()"
      ],
      "metadata": {
        "colab": {
          "base_uri": "https://localhost:8080/",
          "height": 429
        },
        "id": "m8-EhCXx3dFy",
        "outputId": "0899849b-2eff-4a6d-e714-3f0d9b63aba7"
      },
      "execution_count": null,
      "outputs": [
        {
          "output_type": "execute_result",
          "data": {
            "text/plain": [
              "id.orig_p        65536\n",
              "id.resp_p        63094\n",
              "proto                2\n",
              "conn_state          13\n",
              "missed_bytes        15\n",
              "history            203\n",
              "orig_pkts          157\n",
              "orig_ip_bytes     1433\n",
              "resp_pkts          105\n",
              "resp_ip_bytes     1411\n",
              "label                7\n",
              "dtype: int64"
            ],
            "text/html": [
              "<div>\n",
              "<style scoped>\n",
              "    .dataframe tbody tr th:only-of-type {\n",
              "        vertical-align: middle;\n",
              "    }\n",
              "\n",
              "    .dataframe tbody tr th {\n",
              "        vertical-align: top;\n",
              "    }\n",
              "\n",
              "    .dataframe thead th {\n",
              "        text-align: right;\n",
              "    }\n",
              "</style>\n",
              "<table border=\"1\" class=\"dataframe\">\n",
              "  <thead>\n",
              "    <tr style=\"text-align: right;\">\n",
              "      <th></th>\n",
              "      <th>0</th>\n",
              "    </tr>\n",
              "  </thead>\n",
              "  <tbody>\n",
              "    <tr>\n",
              "      <th>id.orig_p</th>\n",
              "      <td>65536</td>\n",
              "    </tr>\n",
              "    <tr>\n",
              "      <th>id.resp_p</th>\n",
              "      <td>63094</td>\n",
              "    </tr>\n",
              "    <tr>\n",
              "      <th>proto</th>\n",
              "      <td>2</td>\n",
              "    </tr>\n",
              "    <tr>\n",
              "      <th>conn_state</th>\n",
              "      <td>13</td>\n",
              "    </tr>\n",
              "    <tr>\n",
              "      <th>missed_bytes</th>\n",
              "      <td>15</td>\n",
              "    </tr>\n",
              "    <tr>\n",
              "      <th>history</th>\n",
              "      <td>203</td>\n",
              "    </tr>\n",
              "    <tr>\n",
              "      <th>orig_pkts</th>\n",
              "      <td>157</td>\n",
              "    </tr>\n",
              "    <tr>\n",
              "      <th>orig_ip_bytes</th>\n",
              "      <td>1433</td>\n",
              "    </tr>\n",
              "    <tr>\n",
              "      <th>resp_pkts</th>\n",
              "      <td>105</td>\n",
              "    </tr>\n",
              "    <tr>\n",
              "      <th>resp_ip_bytes</th>\n",
              "      <td>1411</td>\n",
              "    </tr>\n",
              "    <tr>\n",
              "      <th>label</th>\n",
              "      <td>7</td>\n",
              "    </tr>\n",
              "  </tbody>\n",
              "</table>\n",
              "</div><br><label><b>dtype:</b> int64</label>"
            ]
          },
          "metadata": {},
          "execution_count": 12
        }
      ]
    },
    {
      "cell_type": "code",
      "source": [
        "\n",
        "# Step 4: Encode Categorical Features\n",
        "label_encoder = LabelEncoder()\n",
        "for column in df.select_dtypes(include=['object']).columns:\n",
        "    if column != 'label':  # Skip encoding the target column for now\n",
        "        df[column] = label_encoder.fit_transform(df[column])\n",
        "\n",
        "# Encode the target column 'label' into 0 (Benign) and 1 (Malicious)\n",
        "if 'label' not in df.columns:\n",
        "    raise ValueError(\"Target column 'label' not found in the dataset! Check column names.\")\n",
        "\n",
        "df['label'] = df['label'].apply(lambda x: 0 if x == 'Benign' else 1)\n"
      ],
      "metadata": {
        "id": "Bz5BK_GFvgot"
      },
      "execution_count": null,
      "outputs": []
    },
    {
      "cell_type": "code",
      "source": [
        "\n",
        "# Count benign and malicious samples\n",
        "label_counts = df['label'].value_counts()\n",
        "\n",
        "# Print the counts\n",
        "print(\"Counts of Benign and Malicious samples:\")\n",
        "print(f\"Benign (0): {label_counts.get(0, 0)}\")\n",
        "print(f\"Malicious (1): {label_counts.get(1, 0)}\")"
      ],
      "metadata": {
        "colab": {
          "base_uri": "https://localhost:8080/"
        },
        "id": "q7Zs6aHj30CQ",
        "outputId": "99c29d66-095f-41cc-9ebd-44834941d0c3"
      },
      "execution_count": null,
      "outputs": [
        {
          "output_type": "stream",
          "name": "stdout",
          "text": [
            "Counts of Benign and Malicious samples:\n",
            "Benign (0): 4377105\n",
            "Malicious (1): 8110637\n"
          ]
        }
      ]
    },
    {
      "cell_type": "code",
      "source": [
        "# Count labels\n",
        "label_counts = df['label'].value_counts()\n",
        "\n",
        "# Plot pie chart\n",
        "plt.figure(figsize=(6, 6))\n",
        "plt.pie(label_counts, labels=['Benign', 'Malicious'], autopct='%1.1f%%', startangle=140, colors=['skyblue', 'red'])\n",
        "plt.title('Data Distribution: Benign vs Malicious')\n",
        "plt.show()\n"
      ],
      "metadata": {
        "id": "pGSZYotdddNM"
      },
      "execution_count": null,
      "outputs": []
    },
    {
      "cell_type": "markdown",
      "source": [],
      "metadata": {
        "id": "hfrpXbPJvrxJ"
      }
    },
    {
      "cell_type": "code",
      "source": [
        "\n",
        "# Step 5: Feature-Target Split\n",
        "target_column = 'label'\n",
        "features = df.drop(columns=[target_column])\n",
        "labels = df[target_column]\n",
        "\n",
        "print(\"\\nFeature and Target Shapes:\")\n",
        "print(f\"Features: {features.shape}, Labels: {labels.shape}\")\n"
      ],
      "metadata": {
        "colab": {
          "base_uri": "https://localhost:8080/"
        },
        "id": "XhSOpAoXvlS7",
        "outputId": "ae373512-9ef7-4f1a-88cf-1ca955c81a78"
      },
      "execution_count": null,
      "outputs": [
        {
          "output_type": "stream",
          "name": "stdout",
          "text": [
            "\n",
            "Feature and Target Shapes:\n",
            "Features: (12487742, 10), Labels: (12487742,)\n"
          ]
        }
      ]
    },
    {
      "cell_type": "code",
      "source": [
        "\n",
        "# Step 6: Data Normalization\n",
        "scaler = StandardScaler()\n",
        "features_scaled = scaler.fit_transform(features)"
      ],
      "metadata": {
        "id": "NPozAB5Qvsd3"
      },
      "execution_count": null,
      "outputs": []
    },
    {
      "cell_type": "code",
      "source": [
        "\n",
        "# Step 7: Split into Train/Validation/Test\n",
        "X_train, X_temp, y_train, y_temp = train_test_split(features_scaled, labels, test_size=0.3, random_state=42)\n",
        "X_val, X_test, y_val, y_test = train_test_split(X_temp, y_temp, test_size=0.5, random_state=42)\n",
        "\n",
        "print(\"\\nFinal Data Shapes:\")\n",
        "print(f\"Training Features: {X_train.shape}, Training Labels: {y_train.shape}\")\n",
        "print(f\"Validation Features: {X_val.shape}, Validation Labels: {y_val.shape}\")\n",
        "print(f\"Testing Features: {X_test.shape}, Testing Labels: {y_test.shape}\")\n"
      ],
      "metadata": {
        "colab": {
          "base_uri": "https://localhost:8080/"
        },
        "id": "sPbj2rgJvzQf",
        "outputId": "c98cab6c-086a-48e6-d309-3129d3072378"
      },
      "execution_count": null,
      "outputs": [
        {
          "output_type": "stream",
          "name": "stdout",
          "text": [
            "\n",
            "Final Data Shapes:\n",
            "Training Features: (8741419, 10), Training Labels: (8741419,)\n",
            "Validation Features: (1873161, 10), Validation Labels: (1873161,)\n",
            "Testing Features: (1873162, 10), Testing Labels: (1873162,)\n"
          ]
        }
      ]
    },
    {
      "cell_type": "code",
      "source": [],
      "metadata": {
        "id": "gLatYQNCdZx6"
      },
      "execution_count": null,
      "outputs": []
    },
    {
      "cell_type": "code",
      "source": [
        "#for ram usage\n",
        "del df"
      ],
      "metadata": {
        "id": "D03mA1EYnS5-"
      },
      "execution_count": null,
      "outputs": []
    },
    {
      "cell_type": "code",
      "source": [
        "# Step 8: Reshape Data for CNN, LSTM, and Transformer Input\n",
        "X_train_cnn = X_train.reshape((X_train.shape[0], X_train.shape[1], 1))\n",
        "X_val_cnn = X_val.reshape((X_val.shape[0], X_val.shape[1], 1))\n",
        "X_test_cnn = X_test.reshape((X_test.shape[0], X_test.shape[1], 1))\n"
      ],
      "metadata": {
        "id": "xDccK__xNuBe"
      },
      "execution_count": null,
      "outputs": []
    },
    {
      "cell_type": "code",
      "source": [
        "# Step 9: Build and Train ANN Model\n",
        "ann_model = Sequential([\n",
        "    Dense(128, activation='relu', input_shape=(X_train.shape[1],)),\n",
        "    Dropout(0.3),\n",
        "    Dense(64, activation='relu'),\n",
        "    Dropout(0.3),\n",
        "    Dense(1, activation='sigmoid')\n",
        "])\n",
        "\n",
        "ann_model.compile(optimizer='adam', loss='binary_crossentropy', metrics=['accuracy'])\n"
      ],
      "metadata": {
        "colab": {
          "base_uri": "https://localhost:8080/"
        },
        "id": "_Fb2zHuSyKYD",
        "outputId": "62d6ae11-6ba0-4e6a-ce25-a14f03cb8dde"
      },
      "execution_count": null,
      "outputs": [
        {
          "output_type": "stream",
          "name": "stderr",
          "text": [
            "/usr/local/lib/python3.10/dist-packages/keras/src/layers/core/dense.py:87: UserWarning: Do not pass an `input_shape`/`input_dim` argument to a layer. When using Sequential models, prefer using an `Input(shape)` object as the first layer in the model instead.\n",
            "  super().__init__(activity_regularizer=activity_regularizer, **kwargs)\n"
          ]
        }
      ]
    },
    {
      "cell_type": "code",
      "source": [
        "print(\"\\nTraining the ANN model...\")\n",
        "history_ann = ann_model.fit(X_train, y_train, validation_data=(X_val, y_val), epochs=10, batch_size=128, callbacks=[EarlyStopping(monitor='val_loss', patience=5, restore_best_weights=True)])\n"
      ],
      "metadata": {
        "colab": {
          "base_uri": "https://localhost:8080/"
        },
        "id": "3uVeVYmiymGz",
        "outputId": "f9100c0b-55bb-4b66-c53b-d4f4dfc2c713"
      },
      "execution_count": null,
      "outputs": [
        {
          "output_type": "stream",
          "name": "stdout",
          "text": [
            "\n",
            "Training the ANN model...\n",
            "Epoch 1/10\n",
            "\u001b[1m68293/68293\u001b[0m \u001b[32m━━━━━━━━━━━━━━━━━━━━\u001b[0m\u001b[37m\u001b[0m \u001b[1m151s\u001b[0m 2ms/step - accuracy: 0.7346 - loss: 0.4231 - val_accuracy: 0.8031 - val_loss: 0.3670\n",
            "Epoch 2/10\n",
            "\u001b[1m68293/68293\u001b[0m \u001b[32m━━━━━━━━━━━━━━━━━━━━\u001b[0m\u001b[37m\u001b[0m \u001b[1m147s\u001b[0m 2ms/step - accuracy: 0.7677 - loss: 0.3891 - val_accuracy: 0.7380 - val_loss: 0.4126\n",
            "Epoch 3/10\n",
            "\u001b[1m68293/68293\u001b[0m \u001b[32m━━━━━━━━━━━━━━━━━━━━\u001b[0m\u001b[37m\u001b[0m \u001b[1m202s\u001b[0m 2ms/step - accuracy: 0.7603 - loss: 0.8987 - val_accuracy: 0.7367 - val_loss: 0.4185\n",
            "Epoch 4/10\n",
            "\u001b[1m68293/68293\u001b[0m \u001b[32m━━━━━━━━━━━━━━━━━━━━\u001b[0m\u001b[37m\u001b[0m \u001b[1m200s\u001b[0m 2ms/step - accuracy: 0.7372 - loss: 0.4450 - val_accuracy: 0.7348 - val_loss: 0.4174\n",
            "Epoch 5/10\n",
            "\u001b[1m68293/68293\u001b[0m \u001b[32m━━━━━━━━━━━━━━━━━━━━\u001b[0m\u001b[37m\u001b[0m \u001b[1m147s\u001b[0m 2ms/step - accuracy: 0.7522 - loss: 0.6317 - val_accuracy: 0.7381 - val_loss: 0.4169\n",
            "Epoch 6/10\n",
            "\u001b[1m68293/68293\u001b[0m \u001b[32m━━━━━━━━━━━━━━━━━━━━\u001b[0m\u001b[37m\u001b[0m \u001b[1m146s\u001b[0m 2ms/step - accuracy: 0.7375 - loss: 0.7407 - val_accuracy: 0.7380 - val_loss: 0.4166\n"
          ]
        }
      ]
    },
    {
      "cell_type": "code",
      "source": [
        "drive_path = '/content/drive/MyDrive/CICIoT2023'\n",
        "# Save ANN model\n",
        "ann_model.save(os.path.join(drive_path, 'ann_model.h5'))"
      ],
      "metadata": {
        "colab": {
          "base_uri": "https://localhost:8080/"
        },
        "id": "5bAOFuzrsfeH",
        "outputId": "2fd162fb-656c-4825-9cbc-626135a9b9e6"
      },
      "execution_count": null,
      "outputs": [
        {
          "output_type": "stream",
          "name": "stderr",
          "text": [
            "WARNING:absl:You are saving your model as an HDF5 file via `model.save()` or `keras.saving.save_model(model)`. This file format is considered legacy. We recommend using instead the native Keras format, e.g. `model.save('my_model.keras')` or `keras.saving.save_model(model, 'my_model.keras')`. \n"
          ]
        }
      ]
    },
    {
      "cell_type": "code",
      "source": [
        "# Step 9: Evaluate the Model\n",
        "print(\"\\nEvaluating the ANN model...\")\n",
        "ann_loss, ann_accuracy = ann_model.evaluate(X_test, y_test)\n",
        "print(f\"Test Loss: {ann_loss:.4f}, Test Accuracy: {ann_accuracy:.4f}\")"
      ],
      "metadata": {
        "colab": {
          "base_uri": "https://localhost:8080/"
        },
        "id": "CA-Fi5FPyxsg",
        "outputId": "3a35e210-d248-40ef-aee3-ffaaf86c6d68"
      },
      "execution_count": null,
      "outputs": [
        {
          "output_type": "stream",
          "name": "stdout",
          "text": [
            "\n",
            "Evaluating the ANN model...\n",
            "\u001b[1m58537/58537\u001b[0m \u001b[32m━━━━━━━━━━━━━━━━━━━━\u001b[0m\u001b[37m\u001b[0m \u001b[1m91s\u001b[0m 2ms/step - accuracy: 0.8027 - loss: 0.3661\n",
            "Test Loss: 0.3672, Test Accuracy: 0.8026\n"
          ]
        }
      ]
    },
    {
      "cell_type": "code",
      "source": [
        "\"\"\"\n",
        "# Step 10: Plot Training History\n",
        "import matplotlib.pyplot as plt\n",
        "\n",
        "plt.figure(figsize=(10, 6))\n",
        "plt.plot(history.history['accuracy'], label='Train Accuracy')\n",
        "plt.plot(history.history['val_accuracy'], label='Validation Accuracy')\n",
        "plt.title('Model Accuracy')\n",
        "plt.xlabel('Epochs')\n",
        "plt.ylabel('Accuracy')\n",
        "plt.legend()\n",
        "plt.show()\n",
        "\n",
        "plt.figure(figsize=(10, 6))\n",
        "plt.plot(history.history['loss'], label='Train Loss')\n",
        "plt.plot(history.history['val_loss'], label='Validation Loss')\n",
        "plt.title('Model Loss')\n",
        "plt.xlabel('Epochs')\n",
        "plt.ylabel('Loss')\n",
        "plt.legend()\n",
        "plt.show()\n",
        "\"\"\""
      ],
      "metadata": {
        "colab": {
          "base_uri": "https://localhost:8080/",
          "height": 128
        },
        "id": "_lDkGoCzy5n4",
        "outputId": "5847750e-3e7d-4fad-a3d6-442bc09140f5"
      },
      "execution_count": null,
      "outputs": [
        {
          "output_type": "execute_result",
          "data": {
            "text/plain": [
              "\"\\n# Step 10: Plot Training History\\nimport matplotlib.pyplot as plt\\n\\nplt.figure(figsize=(10, 6))\\nplt.plot(history.history['accuracy'], label='Train Accuracy')\\nplt.plot(history.history['val_accuracy'], label='Validation Accuracy')\\nplt.title('Model Accuracy')\\nplt.xlabel('Epochs')\\nplt.ylabel('Accuracy')\\nplt.legend()\\nplt.show()\\n\\nplt.figure(figsize=(10, 6))\\nplt.plot(history.history['loss'], label='Train Loss')\\nplt.plot(history.history['val_loss'], label='Validation Loss')\\nplt.title('Model Loss')\\nplt.xlabel('Epochs')\\nplt.ylabel('Loss')\\nplt.legend()\\nplt.show()\\n\""
            ],
            "application/vnd.google.colaboratory.intrinsic+json": {
              "type": "string"
            }
          },
          "metadata": {},
          "execution_count": 24
        }
      ]
    },
    {
      "cell_type": "code",
      "source": [
        "\n"
      ],
      "metadata": {
        "id": "hSHMN7zYy8BZ"
      },
      "execution_count": null,
      "outputs": []
    },
    {
      "cell_type": "code",
      "source": [
        "\n",
        "\n",
        "# Step 12: Build and Train CNN Model\n",
        "cnn_model = Sequential([\n",
        "    Conv1D(64, kernel_size=3, activation='relu', input_shape=(X_train.shape[1], 1)),\n",
        "    MaxPooling1D(pool_size=2),\n",
        "    Conv1D(32, kernel_size=3, activation='relu'),\n",
        "    Flatten(),\n",
        "    Dense(128, activation='relu'),\n",
        "    Dropout(0.3),\n",
        "    Dense(1, activation='sigmoid')\n",
        "])"
      ],
      "metadata": {
        "colab": {
          "base_uri": "https://localhost:8080/"
        },
        "id": "w1e3d7619lk3",
        "outputId": "20b4bce1-7f0b-4309-ebe5-0ba54016396b"
      },
      "execution_count": null,
      "outputs": [
        {
          "output_type": "stream",
          "name": "stderr",
          "text": [
            "/usr/local/lib/python3.10/dist-packages/keras/src/layers/convolutional/base_conv.py:107: UserWarning: Do not pass an `input_shape`/`input_dim` argument to a layer. When using Sequential models, prefer using an `Input(shape)` object as the first layer in the model instead.\n",
            "  super().__init__(activity_regularizer=activity_regularizer, **kwargs)\n"
          ]
        }
      ]
    },
    {
      "cell_type": "code",
      "source": [
        "\n",
        "cnn_model.compile(optimizer='adam', loss='binary_crossentropy', metrics=['accuracy'])\n",
        "\n",
        "print(\"\\nTraining the CNN model...\")\n",
        "history_cnn = cnn_model.fit(X_train_cnn, y_train, validation_data=(X_val_cnn, y_val), epochs=10, batch_size=128, callbacks=[EarlyStopping(monitor='val_loss', patience=5, restore_best_weights=True)])\n",
        "\n"
      ],
      "metadata": {
        "colab": {
          "base_uri": "https://localhost:8080/"
        },
        "id": "Ft3-tESO9oTc",
        "outputId": "b63b4ecd-efae-46e9-8f43-6ca7972284ee"
      },
      "execution_count": null,
      "outputs": [
        {
          "output_type": "stream",
          "name": "stdout",
          "text": [
            "\n",
            "Training the CNN model...\n",
            "Epoch 1/10\n",
            "\u001b[1m68293/68293\u001b[0m \u001b[32m━━━━━━━━━━━━━━━━━━━━\u001b[0m\u001b[37m\u001b[0m \u001b[1m194s\u001b[0m 3ms/step - accuracy: 0.7339 - loss: 0.4162 - val_accuracy: 0.7380 - val_loss: 0.4091\n",
            "Epoch 2/10\n",
            "\u001b[1m68293/68293\u001b[0m \u001b[32m━━━━━━━━━━━━━━━━━━━━\u001b[0m\u001b[37m\u001b[0m \u001b[1m186s\u001b[0m 3ms/step - accuracy: 0.7373 - loss: 0.4105 - val_accuracy: 0.7377 - val_loss: 0.4099\n",
            "Epoch 3/10\n",
            "\u001b[1m68293/68293\u001b[0m \u001b[32m━━━━━━━━━━━━━━━━━━━━\u001b[0m\u001b[37m\u001b[0m \u001b[1m163s\u001b[0m 2ms/step - accuracy: 0.7378 - loss: 0.4099 - val_accuracy: 0.7381 - val_loss: 0.4088\n",
            "Epoch 4/10\n",
            "\u001b[1m68293/68293\u001b[0m \u001b[32m━━━━━━━━━━━━━━━━━━━━\u001b[0m\u001b[37m\u001b[0m \u001b[1m184s\u001b[0m 3ms/step - accuracy: 0.7379 - loss: 0.4103 - val_accuracy: 0.7385 - val_loss: 0.4083\n",
            "Epoch 5/10\n",
            "\u001b[1m68293/68293\u001b[0m \u001b[32m━━━━━━━━━━━━━━━━━━━━\u001b[0m\u001b[37m\u001b[0m \u001b[1m183s\u001b[0m 3ms/step - accuracy: 0.7376 - loss: 0.4102 - val_accuracy: 0.7385 - val_loss: 0.4080\n",
            "Epoch 6/10\n",
            "\u001b[1m68293/68293\u001b[0m \u001b[32m━━━━━━━━━━━━━━━━━━━━\u001b[0m\u001b[37m\u001b[0m \u001b[1m183s\u001b[0m 2ms/step - accuracy: 0.7381 - loss: 0.4098 - val_accuracy: 0.7385 - val_loss: 0.4080\n",
            "Epoch 7/10\n",
            "\u001b[1m68293/68293\u001b[0m \u001b[32m━━━━━━━━━━━━━━━━━━━━\u001b[0m\u001b[37m\u001b[0m \u001b[1m163s\u001b[0m 2ms/step - accuracy: 0.7383 - loss: 0.4091 - val_accuracy: 0.7341 - val_loss: 0.4207\n",
            "Epoch 8/10\n",
            "\u001b[1m68293/68293\u001b[0m \u001b[32m━━━━━━━━━━━━━━━━━━━━\u001b[0m\u001b[37m\u001b[0m \u001b[1m163s\u001b[0m 2ms/step - accuracy: 0.7383 - loss: 0.4092 - val_accuracy: 0.7386 - val_loss: 0.4078\n",
            "Epoch 9/10\n",
            "\u001b[1m68293/68293\u001b[0m \u001b[32m━━━━━━━━━━━━━━━━━━━━\u001b[0m\u001b[37m\u001b[0m \u001b[1m181s\u001b[0m 3ms/step - accuracy: 0.7387 - loss: 0.4090 - val_accuracy: 0.7385 - val_loss: 0.4093\n",
            "Epoch 10/10\n",
            "\u001b[1m68293/68293\u001b[0m \u001b[32m━━━━━━━━━━━━━━━━━━━━\u001b[0m\u001b[37m\u001b[0m \u001b[1m181s\u001b[0m 2ms/step - accuracy: 0.7394 - loss: 0.4093 - val_accuracy: 0.7808 - val_loss: 0.3968\n"
          ]
        }
      ]
    },
    {
      "cell_type": "code",
      "source": [
        "drive_path = '/content/drive/MyDrive/CICIoT2023'\n",
        "# Save CNN model\n",
        "cnn_model.save(os.path.join(drive_path, 'cnn_model.h5'))"
      ],
      "metadata": {
        "colab": {
          "base_uri": "https://localhost:8080/"
        },
        "id": "42mkpk4ztjre",
        "outputId": "793dd998-78f8-4a51-c20d-0a0da21ad8f2"
      },
      "execution_count": null,
      "outputs": [
        {
          "output_type": "stream",
          "name": "stderr",
          "text": [
            "WARNING:absl:You are saving your model as an HDF5 file via `model.save()` or `keras.saving.save_model(model)`. This file format is considered legacy. We recommend using instead the native Keras format, e.g. `model.save('my_model.keras')` or `keras.saving.save_model(model, 'my_model.keras')`. \n"
          ]
        }
      ]
    },
    {
      "cell_type": "code",
      "source": [
        "\n",
        "# Step 13: Evaluate the CNN Model\n",
        "print(\"\\nEvaluating the CNN model...\")\n",
        "cnn_loss, cnn_accuracy = cnn_model.evaluate(X_test_cnn, y_test)\n",
        "print(f\"Test Loss: {cnn_loss:.4f}, Test Accuracy: {cnn_accuracy:.4f}\")"
      ],
      "metadata": {
        "colab": {
          "base_uri": "https://localhost:8080/"
        },
        "id": "737pSCBG9xlY",
        "outputId": "ac986829-47e4-4d31-8c6f-f227270419e5"
      },
      "execution_count": null,
      "outputs": [
        {
          "output_type": "stream",
          "name": "stdout",
          "text": [
            "\n",
            "Evaluating the CNN model...\n",
            "\u001b[1m58537/58537\u001b[0m \u001b[32m━━━━━━━━━━━━━━━━━━━━\u001b[0m\u001b[37m\u001b[0m \u001b[1m98s\u001b[0m 2ms/step - accuracy: 0.7812 - loss: 0.3967\n",
            "Test Loss: 0.3973, Test Accuracy: 0.7810\n"
          ]
        }
      ]
    },
    {
      "cell_type": "code",
      "source": [
        "\"\"\"\n",
        "import matplotlib.pyplot as plt\n",
        "\n",
        "plt.figure(figsize=(10, 6))\n",
        "plt.plot(history_cnn.history['accuracy'], label='Train Accuracy')\n",
        "plt.plot(history_cnn.history['val_accuracy'], label='Validation Accuracy')\n",
        "plt.title('CNN Model Accuracy')\n",
        "plt.xlabel('Epochs')\n",
        "plt.ylabel('Accuracy')\n",
        "plt.legend()\n",
        "plt.show()\n",
        "\n",
        "plt.figure(figsize=(10, 6))\n",
        "plt.plot(history_cnn.history['loss'], label='Train Loss')\n",
        "plt.plot(history_cnn.history['val_loss'], label='Validation Loss')\n",
        "plt.title('CNN Model Loss')\n",
        "plt.xlabel('Epochs')\n",
        "plt.ylabel('Loss')\n",
        "plt.legend()\n",
        "plt.show()\n",
        "\"\"\"\n"
      ],
      "metadata": {
        "colab": {
          "base_uri": "https://localhost:8080/",
          "height": 128
        },
        "id": "dIRMRr7I91gS",
        "outputId": "afaae421-e4d8-4c69-f1b2-c851a4efaa1e"
      },
      "execution_count": null,
      "outputs": [
        {
          "output_type": "execute_result",
          "data": {
            "text/plain": [
              "\"\\nimport matplotlib.pyplot as plt\\n\\nplt.figure(figsize=(10, 6))\\nplt.plot(history_cnn.history['accuracy'], label='Train Accuracy')\\nplt.plot(history_cnn.history['val_accuracy'], label='Validation Accuracy')\\nplt.title('CNN Model Accuracy')\\nplt.xlabel('Epochs')\\nplt.ylabel('Accuracy')\\nplt.legend()\\nplt.show()\\n\\nplt.figure(figsize=(10, 6))\\nplt.plot(history_cnn.history['loss'], label='Train Loss')\\nplt.plot(history_cnn.history['val_loss'], label='Validation Loss')\\nplt.title('CNN Model Loss')\\nplt.xlabel('Epochs')\\nplt.ylabel('Loss')\\nplt.legend()\\nplt.show()\\n\""
            ],
            "application/vnd.google.colaboratory.intrinsic+json": {
              "type": "string"
            }
          },
          "metadata": {},
          "execution_count": 29
        }
      ]
    },
    {
      "cell_type": "code",
      "source": [],
      "metadata": {
        "id": "WeqilIne94dY"
      },
      "execution_count": null,
      "outputs": []
    },
    {
      "cell_type": "code",
      "source": [
        "lstm_model = Sequential([\n",
        "    LSTM(64, return_sequences=True, input_shape=(X_train.shape[1], 1)),\n",
        "    Dropout(0.3),\n",
        "    LSTM(32),\n",
        "    Dropout(0.3),\n",
        "    Dense(1, activation='sigmoid')\n",
        "])"
      ],
      "metadata": {
        "colab": {
          "base_uri": "https://localhost:8080/"
        },
        "id": "VD8MDzmgE4em",
        "outputId": "01b9596d-b5c7-49e1-9307-abee91318353"
      },
      "execution_count": null,
      "outputs": [
        {
          "output_type": "stream",
          "name": "stderr",
          "text": [
            "/usr/local/lib/python3.10/dist-packages/keras/src/layers/rnn/rnn.py:204: UserWarning: Do not pass an `input_shape`/`input_dim` argument to a layer. When using Sequential models, prefer using an `Input(shape)` object as the first layer in the model instead.\n",
            "  super().__init__(**kwargs)\n"
          ]
        }
      ]
    },
    {
      "cell_type": "code",
      "source": [
        "lstm_model.compile(optimizer='adam', loss='binary_crossentropy', metrics=['accuracy'])\n"
      ],
      "metadata": {
        "id": "ng-uGPFtE6Ul"
      },
      "execution_count": null,
      "outputs": []
    },
    {
      "cell_type": "markdown",
      "source": [],
      "metadata": {
        "id": "Q40c62QLFCbV"
      }
    },
    {
      "cell_type": "code",
      "source": [
        "\n",
        "print(\"\\nTraining the LSTM model...\")\n",
        "history_lstm = lstm_model.fit(X_train_cnn, y_train, validation_data=(X_val_cnn, y_val), epochs=10, batch_size=128, callbacks=[EarlyStopping(monitor='val_loss', patience=5, restore_best_weights=True)])\n"
      ],
      "metadata": {
        "colab": {
          "base_uri": "https://localhost:8080/"
        },
        "id": "Vd-j3tNbFDml",
        "outputId": "3debca91-389b-45f1-d431-c040c8b368b3"
      },
      "execution_count": null,
      "outputs": [
        {
          "output_type": "stream",
          "name": "stdout",
          "text": [
            "\n",
            "Training the LSTM model...\n",
            "Epoch 1/10\n",
            "\u001b[1m68293/68293\u001b[0m \u001b[32m━━━━━━━━━━━━━━━━━━━━\u001b[0m\u001b[37m\u001b[0m \u001b[1m502s\u001b[0m 7ms/step - accuracy: 0.7347 - loss: 0.4119 - val_accuracy: 0.7376 - val_loss: 0.4095\n",
            "Epoch 2/10\n",
            "\u001b[1m68293/68293\u001b[0m \u001b[32m━━━━━━━━━━━━━━━━━━━━\u001b[0m\u001b[37m\u001b[0m \u001b[1m510s\u001b[0m 7ms/step - accuracy: 0.7378 - loss: 0.4090 - val_accuracy: 0.7385 - val_loss: 0.4080\n",
            "Epoch 3/10\n",
            "\u001b[1m68293/68293\u001b[0m \u001b[32m━━━━━━━━━━━━━━━━━━━━\u001b[0m\u001b[37m\u001b[0m \u001b[1m513s\u001b[0m 8ms/step - accuracy: 0.7383 - loss: 0.4084 - val_accuracy: 0.7387 - val_loss: 0.4077\n",
            "Epoch 4/10\n",
            "\u001b[1m68293/68293\u001b[0m \u001b[32m━━━━━━━━━━━━━━━━━━━━\u001b[0m\u001b[37m\u001b[0m \u001b[1m507s\u001b[0m 7ms/step - accuracy: 0.7383 - loss: 0.4082 - val_accuracy: 0.7385 - val_loss: 0.4072\n",
            "Epoch 5/10\n",
            "\u001b[1m68293/68293\u001b[0m \u001b[32m━━━━━━━━━━━━━━━━━━━━\u001b[0m\u001b[37m\u001b[0m \u001b[1m507s\u001b[0m 7ms/step - accuracy: 0.7385 - loss: 0.4079 - val_accuracy: 0.7383 - val_loss: 0.4084\n",
            "Epoch 6/10\n",
            "\u001b[1m68293/68293\u001b[0m \u001b[32m━━━━━━━━━━━━━━━━━━━━\u001b[0m\u001b[37m\u001b[0m \u001b[1m568s\u001b[0m 8ms/step - accuracy: 0.7385 - loss: 0.4077 - val_accuracy: 0.7382 - val_loss: 0.4075\n",
            "Epoch 7/10\n",
            "\u001b[1m68293/68293\u001b[0m \u001b[32m━━━━━━━━━━━━━━━━━━━━\u001b[0m\u001b[37m\u001b[0m \u001b[1m509s\u001b[0m 7ms/step - accuracy: 0.7385 - loss: 0.4076 - val_accuracy: 0.7388 - val_loss: 0.4073\n",
            "Epoch 8/10\n",
            "\u001b[1m68293/68293\u001b[0m \u001b[32m━━━━━━━━━━━━━━━━━━━━\u001b[0m\u001b[37m\u001b[0m \u001b[1m502s\u001b[0m 7ms/step - accuracy: 0.7387 - loss: 0.4074 - val_accuracy: 0.7387 - val_loss: 0.4072\n",
            "Epoch 9/10\n",
            "\u001b[1m68293/68293\u001b[0m \u001b[32m━━━━━━━━━━━━━━━━━━━━\u001b[0m\u001b[37m\u001b[0m \u001b[1m511s\u001b[0m 7ms/step - accuracy: 0.7382 - loss: 0.4076 - val_accuracy: 0.7385 - val_loss: 0.4074\n"
          ]
        }
      ]
    },
    {
      "cell_type": "code",
      "source": [
        "drive_path = '/content/drive/MyDrive/CICIoT2023'\n",
        "# Save LSTM model\n",
        "lstm_model.save(os.path.join(drive_path, 'lstm_model.h5'))"
      ],
      "metadata": {
        "colab": {
          "base_uri": "https://localhost:8080/"
        },
        "id": "OINiRkxRtq-Y",
        "outputId": "79988043-1e84-4ee1-dfbc-4ea2c6a5897d"
      },
      "execution_count": null,
      "outputs": [
        {
          "output_type": "stream",
          "name": "stderr",
          "text": [
            "WARNING:absl:You are saving your model as an HDF5 file via `model.save()` or `keras.saving.save_model(model)`. This file format is considered legacy. We recommend using instead the native Keras format, e.g. `model.save('my_model.keras')` or `keras.saving.save_model(model, 'my_model.keras')`. \n"
          ]
        }
      ]
    },
    {
      "cell_type": "code",
      "source": [
        "\n",
        "# Step 16: Evaluate the LSTM Model\n",
        "print(\"\\nEvaluating the LSTM model...\")\n",
        "lstm_loss, lstm_accuracy = lstm_model.evaluate(X_test_cnn, y_test)\n",
        "print(f\"Test Loss: {lstm_loss:.4f}, Test Accuracy: {lstm_accuracy:.4f}\")"
      ],
      "metadata": {
        "colab": {
          "base_uri": "https://localhost:8080/"
        },
        "id": "jcUgvGbsFFxU",
        "outputId": "6538fe2f-ae71-4683-afcb-97164433196d"
      },
      "execution_count": null,
      "outputs": [
        {
          "output_type": "stream",
          "name": "stdout",
          "text": [
            "\n",
            "Evaluating the LSTM model...\n",
            "\u001b[1m58537/58537\u001b[0m \u001b[32m━━━━━━━━━━━━━━━━━━━━\u001b[0m\u001b[37m\u001b[0m \u001b[1m195s\u001b[0m 3ms/step - accuracy: 0.7385 - loss: 0.4070\n",
            "Test Loss: 0.4071, Test Accuracy: 0.7385\n"
          ]
        }
      ]
    },
    {
      "cell_type": "code",
      "source": [
        "\"\"\"\n",
        "plt.figure(figsize=(10, 6))\n",
        "plt.plot(history_lstm.history['accuracy'], label='Train Accuracy')\n",
        "plt.plot(history_lstm.history['val_accuracy'], label='Validation Accuracy')\n",
        "plt.title('LSTM Model Accuracy')\n",
        "plt.xlabel('Epochs')\n",
        "plt.ylabel('Accuracy')\n",
        "plt.legend()\n",
        "plt.show()\n",
        "\n",
        "plt.figure(figsize=(10, 6))\n",
        "plt.plot(history_lstm.history['loss'], label='Train Loss')\n",
        "plt.plot(history_lstm.history['val_loss'], label='Validation Loss')\n",
        "plt.title('LSTM Model Loss')\n",
        "plt.xlabel('Epochs')\n",
        "plt.ylabel('Loss')\n",
        "plt.legend()\n",
        "plt.show()\n",
        "\"\"\""
      ],
      "metadata": {
        "colab": {
          "base_uri": "https://localhost:8080/",
          "height": 128
        },
        "id": "tSqHv1AAFJUw",
        "outputId": "98d4cd21-0e36-4a85-8b41-3c498c401c32"
      },
      "execution_count": null,
      "outputs": [
        {
          "output_type": "execute_result",
          "data": {
            "text/plain": [
              "\"\\nplt.figure(figsize=(10, 6))\\nplt.plot(history_lstm.history['accuracy'], label='Train Accuracy')\\nplt.plot(history_lstm.history['val_accuracy'], label='Validation Accuracy')\\nplt.title('LSTM Model Accuracy')\\nplt.xlabel('Epochs')\\nplt.ylabel('Accuracy')\\nplt.legend()\\nplt.show()\\n\\nplt.figure(figsize=(10, 6))\\nplt.plot(history_lstm.history['loss'], label='Train Loss')\\nplt.plot(history_lstm.history['val_loss'], label='Validation Loss')\\nplt.title('LSTM Model Loss')\\nplt.xlabel('Epochs')\\nplt.ylabel('Loss')\\nplt.legend()\\nplt.show()\\n\""
            ],
            "application/vnd.google.colaboratory.intrinsic+json": {
              "type": "string"
            }
          },
          "metadata": {},
          "execution_count": 36
        }
      ]
    },
    {
      "cell_type": "code",
      "source": [
        "\n",
        "# Step 12: Build and Train Transformer Model\n",
        "transformer_input = Input(shape=(X_train.shape[1], 1))\n",
        "x = MultiHeadAttention(num_heads=4, key_dim=32)(transformer_input, transformer_input)\n",
        "x = LayerNormalization(epsilon=1e-6)(x)\n",
        "x = GlobalAveragePooling1D()(x)\n",
        "x = Dense(128, activation='relu')(x)\n",
        "x = Dropout(0.3)(x)\n",
        "transformer_output = Dense(1, activation='sigmoid')(x)\n",
        "\n",
        "transformer_model = tf.keras.Model(inputs=transformer_input, outputs=transformer_output)\n",
        "transformer_model.compile(optimizer='adam', loss='binary_crossentropy', metrics=['accuracy'])\n"
      ],
      "metadata": {
        "id": "Mi2Scf8fMUam"
      },
      "execution_count": null,
      "outputs": []
    },
    {
      "cell_type": "code",
      "source": [
        "print(\"\\nTraining the Transformer model...\")\n",
        "history_transformer = transformer_model.fit(X_train_cnn, y_train, validation_data=(X_val_cnn, y_val), epochs=10, batch_size=128, callbacks=[EarlyStopping(monitor='val_loss', patience=5, restore_best_weights=True)])\n"
      ],
      "metadata": {
        "colab": {
          "base_uri": "https://localhost:8080/"
        },
        "id": "KdyaDFnZMYi_",
        "outputId": "6f26c0d6-2f14-4280-fb8f-9b02786bfc84"
      },
      "execution_count": null,
      "outputs": [
        {
          "output_type": "stream",
          "name": "stdout",
          "text": [
            "\n",
            "Training the Transformer model...\n",
            "Epoch 1/10\n",
            "\u001b[1m68293/68293\u001b[0m \u001b[32m━━━━━━━━━━━━━━━━━━━━\u001b[0m\u001b[37m\u001b[0m \u001b[1m192s\u001b[0m 3ms/step - accuracy: 0.6493 - loss: 0.6488 - val_accuracy: 0.6495 - val_loss: 0.6478\n",
            "Epoch 2/10\n",
            "\u001b[1m68293/68293\u001b[0m \u001b[32m━━━━━━━━━━━━━━━━━━━━\u001b[0m\u001b[37m\u001b[0m \u001b[1m179s\u001b[0m 3ms/step - accuracy: 0.6492 - loss: 0.6480 - val_accuracy: 0.6495 - val_loss: 0.6478\n",
            "Epoch 3/10\n",
            "\u001b[1m68293/68293\u001b[0m \u001b[32m━━━━━━━━━━━━━━━━━━━━\u001b[0m\u001b[37m\u001b[0m \u001b[1m180s\u001b[0m 3ms/step - accuracy: 0.6494 - loss: 0.6478 - val_accuracy: 0.6495 - val_loss: 0.6478\n",
            "Epoch 4/10\n",
            "\u001b[1m68293/68293\u001b[0m \u001b[32m━━━━━━━━━━━━━━━━━━━━\u001b[0m\u001b[37m\u001b[0m \u001b[1m235s\u001b[0m 3ms/step - accuracy: 0.6498 - loss: 0.6476 - val_accuracy: 0.6495 - val_loss: 0.6478\n",
            "Epoch 5/10\n",
            "\u001b[1m68293/68293\u001b[0m \u001b[32m━━━━━━━━━━━━━━━━━━━━\u001b[0m\u001b[37m\u001b[0m \u001b[1m249s\u001b[0m 3ms/step - accuracy: 0.6494 - loss: 0.6478 - val_accuracy: 0.6495 - val_loss: 0.6478\n",
            "Epoch 6/10\n",
            "\u001b[1m68293/68293\u001b[0m \u001b[32m━━━━━━━━━━━━━━━━━━━━\u001b[0m\u001b[37m\u001b[0m \u001b[1m183s\u001b[0m 3ms/step - accuracy: 0.6496 - loss: 0.6477 - val_accuracy: 0.6495 - val_loss: 0.6478\n"
          ]
        }
      ]
    },
    {
      "cell_type": "code",
      "source": [
        "drive_path = '/content/drive/MyDrive/CICIoT2023'\n",
        "\n",
        "# Save Transformer model\n",
        "transformer_model.save(os.path.join(drive_path, 'transformer_model.keras'))"
      ],
      "metadata": {
        "id": "0LNeHa4kt3wF"
      },
      "execution_count": null,
      "outputs": []
    },
    {
      "cell_type": "code",
      "source": [
        "transformer_loss, transformer_accuracy = transformer_model.evaluate(X_test_cnn, y_test)\n",
        "print(f\"Test Loss: {transformer_loss:.4f}, Test Accuracy: {transformer_accuracy:.4f}\")\n"
      ],
      "metadata": {
        "colab": {
          "base_uri": "https://localhost:8080/"
        },
        "id": "fxVnhLUaMVlp",
        "outputId": "02d90743-2c21-412c-f3e5-7605f296b165"
      },
      "execution_count": null,
      "outputs": [
        {
          "output_type": "stream",
          "name": "stdout",
          "text": [
            "\u001b[1m58537/58537\u001b[0m \u001b[32m━━━━━━━━━━━━━━━━━━━━\u001b[0m\u001b[37m\u001b[0m \u001b[1m99s\u001b[0m 2ms/step - accuracy: 0.6496 - loss: 0.6478\n",
            "Test Loss: 0.6478, Test Accuracy: 0.6496\n"
          ]
        }
      ]
    },
    {
      "cell_type": "code",
      "source": [],
      "metadata": {
        "id": "wvvhGzGYMZya"
      },
      "execution_count": null,
      "outputs": []
    },
    {
      "cell_type": "code",
      "source": [
        "\n",
        "# Step 13: Compare Model Performances\n",
        "print(\"\\nModel Performance Comparison:\")\n",
        "print(f\"ANN Model:         Accuracy = {ann_accuracy:.4f}, Loss = {ann_loss:.4f}\")\n",
        "print(f\"CNN Model:         Accuracy = {cnn_accuracy:.4f}, Loss = {cnn_loss:.4f}\")\n",
        "print(f\"LSTM Model:        Accuracy = {lstm_accuracy:.4f}, Loss = {lstm_loss:.4f}\")\n",
        "print(f\"Transformer Model: Accuracy = {transformer_accuracy:.4f}, Loss = {transformer_loss:.4f}\")"
      ],
      "metadata": {
        "colab": {
          "base_uri": "https://localhost:8080/"
        },
        "id": "e6_KsmlDFMdA",
        "outputId": "d896259c-f4e2-441c-95e7-f9eb3b0e32f2"
      },
      "execution_count": null,
      "outputs": [
        {
          "output_type": "stream",
          "name": "stdout",
          "text": [
            "\n",
            "Model Performance Comparison:\n",
            "ANN Model:         Accuracy = 0.8026, Loss = 0.3672\n",
            "CNN Model:         Accuracy = 0.7810, Loss = 0.3973\n",
            "LSTM Model:        Accuracy = 0.7385, Loss = 0.4071\n",
            "Transformer Model: Accuracy = 0.6496, Loss = 0.6478\n"
          ]
        }
      ]
    },
    {
      "cell_type": "code",
      "source": [
        "\n",
        "# Step 14: Visualize Training History Comparison\n",
        "plt.figure(figsize=(10, 6))\n",
        "plt.plot(history_ann.history['val_accuracy'], label='ANN Val Accuracy')\n",
        "plt.plot(history_cnn.history['val_accuracy'], label='CNN Val Accuracy')\n",
        "plt.plot(history_lstm.history['val_accuracy'], label='LSTM Val Accuracy')\n",
        "plt.plot(history_transformer.history['val_accuracy'], label='Transformer Val Accuracy')\n",
        "plt.title('Validation Accuracy Comparison')\n",
        "plt.xlabel('Epochs')\n",
        "plt.ylabel('Accuracy')\n",
        "plt.legend()\n",
        "plt.show()\n"
      ],
      "metadata": {
        "colab": {
          "base_uri": "https://localhost:8080/",
          "height": 564
        },
        "id": "5u3yWIPiKR53",
        "outputId": "029aa8f2-e5a6-4cce-9e39-b52d01c5473a"
      },
      "execution_count": null,
      "outputs": [
        {
          "output_type": "display_data",
          "data": {
            "text/plain": [
              "<Figure size 1000x600 with 1 Axes>"
            ],
            "image/png": "[encoded data removed]"
          },
          "metadata": {}
        }
      ]
    },
    {
      "cell_type": "code",
      "source": [
        "\n",
        "# Model performance metrics\n",
        "models = ['ANN', 'CNN', 'LSTM', 'Transformer']\n",
        "accuracy = [ann_accuracy, cnn_accuracy, lstm_accuracy, transformer_accuracy]\n",
        "loss = [ann_loss, cnn_loss, lstm_loss, transformer_loss]\n",
        "\n",
        "# Plot Accuracy Comparison\n",
        "plt.figure(figsize=(10, 6))\n",
        "plt.bar(models, accuracy, color=['skyblue', 'orange', 'green', 'red'])\n",
        "plt.title('Model Accuracy Comparison')\n",
        "plt.ylabel('Accuracy')\n",
        "plt.ylim(0, 1)  # Accuracy ranges between 0 and 1\n",
        "plt.show()\n",
        "\n",
        "# Plot Loss Comparison\n",
        "plt.figure(figsize=(10, 6))\n",
        "plt.bar(models, loss, color=['skyblue', 'orange', 'green', 'red'])\n",
        "plt.title('Model Loss Comparison')\n",
        "plt.ylabel('Loss')\n",
        "plt.show()\n"
      ],
      "metadata": {
        "id": "m4vUVfFyn168"
      },
      "execution_count": null,
      "outputs": []
    },
    {
      "cell_type": "code",
      "source": [
        "from sklearn.metrics import confusion_matrix, ConfusionMatrixDisplay,classification_report\n",
        "\n",
        "y_pred = (ann_model.predict(X_test_cnn) > 0.5).astype(int)\n",
        "\n",
        "# Compute confusion matrix\n",
        "cm = confusion_matrix(y_test, y_pred)\n",
        "\n",
        "# Display confusion matrix with proper class names\n",
        "disp = ConfusionMatrixDisplay(confusion_matrix=cm, display_labels=['Benign (0)', 'Malicious (1)'])\n",
        "disp.plot(cmap='Blues')\n",
        "plt.title('Confusion Matrix - Best Model')\n",
        "plt.show()\n"
      ],
      "metadata": {
        "colab": {
          "base_uri": "https://localhost:8080/",
          "height": 490
        },
        "id": "akR4bHzuaGO-",
        "outputId": "d4297519-e163-4422-dc42-85c313b26054"
      },
      "execution_count": null,
      "outputs": [
        {
          "output_type": "stream",
          "name": "stdout",
          "text": [
            "\u001b[1m58537/58537\u001b[0m \u001b[32m━━━━━━━━━━━━━━━━━━━━\u001b[0m\u001b[37m\u001b[0m \u001b[1m86s\u001b[0m 1ms/step\n"
          ]
        },
        {
          "output_type": "display_data",
          "data": {
            "text/plain": [
              "<Figure size 640x480 with 2 Axes>"
            ],
            "image/png": "[encoded data removed]"
          },
          "metadata": {}
        }
      ]
    },
    {
      "cell_type": "code",
      "source": [
        "# Extract FP, FN, TP, TN from confusion matrix\n",
        "TN, FP, FN, TP = cm.ravel()\n",
        "\n",
        "# Plot the values\n",
        "labels = ['True Negatives (Benign)', 'False Positives (Benign misclassified)',\n",
        "          'False Negatives (Malicious misclassified)', 'True Positives (Malicious)']\n",
        "values = [TN, FP, FN, TP]\n",
        "\n",
        "plt.figure(figsize=(8, 6))\n",
        "plt.bar(labels, values, color=['skyblue', 'orange', 'red', 'green'])\n",
        "plt.title('Classification Outcomes')\n",
        "plt.ylabel('Count')\n",
        "plt.xticks(rotation=45)\n",
        "plt.show()"
      ],
      "metadata": {
        "colab": {
          "base_uri": "https://localhost:8080/",
          "height": 740
        },
        "id": "qD2dk5f9acaP",
        "outputId": "9778b86b-f76f-4cde-d3bc-8f4631b3932c"
      },
      "execution_count": null,
      "outputs": [
        {
          "output_type": "display_data",
          "data": {
            "text/plain": [
              "<Figure size 800x600 with 1 Axes>"
            ],
            "image/png": "[encoded data removed]"
          },
          "metadata": {}
        }
      ]
    },
    {
      "cell_type": "code",
      "source": [
        "\n",
        "\n",
        "# Generate classification report\n",
        "report = classification_report(y_test, y_pred, target_names=['Benign', 'Malicious'])\n",
        "print(\"Classification Report:\\n\")\n",
        "print(report)\n"
      ],
      "metadata": {
        "colab": {
          "base_uri": "https://localhost:8080/"
        },
        "id": "vvXfGrDcaib6",
        "outputId": "0db62ef5-b97c-423f-9648-c2fa97128f30"
      },
      "execution_count": null,
      "outputs": [
        {
          "output_type": "stream",
          "name": "stdout",
          "text": [
            "Classification Report:\n",
            "\n",
            "              precision    recall  f1-score   support\n",
            "\n",
            "      Benign       0.64      0.98      0.78    656360\n",
            "   Malicious       0.98      0.71      0.82   1216802\n",
            "\n",
            "    accuracy                           0.80   1873162\n",
            "   macro avg       0.81      0.84      0.80   1873162\n",
            "weighted avg       0.87      0.80      0.81   1873162\n",
            "\n"
          ]
        }
      ]
    },
    {
      "cell_type": "code",
      "source": [],
      "metadata": {
        "id": "BzXi6QxwaKzd"
      },
      "execution_count": null,
      "outputs": []
    },
    {
      "cell_type": "code",
      "source": [],
      "metadata": {
        "id": "uQgL_w5MaKwl"
      },
      "execution_count": null,
      "outputs": []
    },
    {
      "cell_type": "code",
      "source": [],
      "metadata": {
        "id": "M8L10dQEaKso"
      },
      "execution_count": null,
      "outputs": []
    },
    {
      "cell_type": "code",
      "source": [],
      "metadata": {
        "id": "ZjwHXymmaKaa"
      },
      "execution_count": null,
      "outputs": []
    }
  ]
}